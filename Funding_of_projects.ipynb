{
 "cells": [
  {
   "cell_type": "code",
   "execution_count": 1,
   "metadata": {},
   "outputs": [],
   "source": [
    "import pandas as pd\n",
    "import numpy as np\n",
    "import matplotlib.pyplot as plt\n",
    "import seaborn as sns\n",
    "\n",
    "# For Classification\n",
    "from sklearn.svm import SVC\n",
    "from sklearn.ensemble import RandomForestClassifier\n",
    "from sklearn.linear_model import LogisticRegression\n",
    "from sklearn.ensemble import AdaBoostClassifier\n",
    "from sklearn.naive_bayes import GaussianNB\n",
    "\n",
    "# For Splitting, Standardizing and encoding\n",
    "from sklearn.model_selection import train_test_split\n",
    "from sklearn.preprocessing import StandardScaler\n",
    "from sklearn.preprocessing import LabelEncoder\n",
    "\n",
    "# PCA for dimentinality reduction\n",
    "from sklearn.decomposition import PCA\n",
    "\n",
    "# For accuracy\n",
    "from sklearn import metrics\n",
    "\n",
    "# For warning\n",
    "import warnings\n",
    "warnings.filterwarnings(\"ignore\")\n",
    "\n",
    "%matplotlib inline"
   ]
  },
  {
   "cell_type": "code",
   "execution_count": 2,
   "metadata": {},
   "outputs": [
    {
     "name": "stdout",
     "output_type": "stream",
     "text": [
      "(108129, 14)\n"
     ]
    },
    {
     "data": {
      "text/html": [
       "<div>\n",
       "<style scoped>\n",
       "    .dataframe tbody tr th:only-of-type {\n",
       "        vertical-align: middle;\n",
       "    }\n",
       "\n",
       "    .dataframe tbody tr th {\n",
       "        vertical-align: top;\n",
       "    }\n",
       "\n",
       "    .dataframe thead th {\n",
       "        text-align: right;\n",
       "    }\n",
       "</style>\n",
       "<table border=\"1\" class=\"dataframe\">\n",
       "  <thead>\n",
       "    <tr style=\"text-align: right;\">\n",
       "      <th></th>\n",
       "      <th>project_id</th>\n",
       "      <th>name</th>\n",
       "      <th>desc</th>\n",
       "      <th>goal</th>\n",
       "      <th>keywords</th>\n",
       "      <th>disable_communication</th>\n",
       "      <th>country</th>\n",
       "      <th>currency</th>\n",
       "      <th>deadline</th>\n",
       "      <th>state_changed_at</th>\n",
       "      <th>created_at</th>\n",
       "      <th>launched_at</th>\n",
       "      <th>backers_count</th>\n",
       "      <th>final_status</th>\n",
       "    </tr>\n",
       "  </thead>\n",
       "  <tbody>\n",
       "    <tr>\n",
       "      <th>0</th>\n",
       "      <td>kkst1451568084</td>\n",
       "      <td>drawing for dollars</td>\n",
       "      <td>I like drawing pictures. and then i color them...</td>\n",
       "      <td>20.0</td>\n",
       "      <td>drawing-for-dollars</td>\n",
       "      <td>False</td>\n",
       "      <td>US</td>\n",
       "      <td>USD</td>\n",
       "      <td>1241333999</td>\n",
       "      <td>1241334017</td>\n",
       "      <td>1240600507</td>\n",
       "      <td>1240602723</td>\n",
       "      <td>3</td>\n",
       "      <td>1</td>\n",
       "    </tr>\n",
       "    <tr>\n",
       "      <th>1</th>\n",
       "      <td>kkst1474482071</td>\n",
       "      <td>Sponsor Dereck Blackburn (Lostwars) Artist in ...</td>\n",
       "      <td>I, Dereck Blackburn will be taking upon an inc...</td>\n",
       "      <td>300.0</td>\n",
       "      <td>sponsor-dereck-blackburn-lostwars-artist-in-re...</td>\n",
       "      <td>False</td>\n",
       "      <td>US</td>\n",
       "      <td>USD</td>\n",
       "      <td>1242429000</td>\n",
       "      <td>1242432018</td>\n",
       "      <td>1240960224</td>\n",
       "      <td>1240975592</td>\n",
       "      <td>2</td>\n",
       "      <td>0</td>\n",
       "    </tr>\n",
       "    <tr>\n",
       "      <th>2</th>\n",
       "      <td>kkst183622197</td>\n",
       "      <td>Mr. Squiggles</td>\n",
       "      <td>So I saw darkpony's successfully funded drawin...</td>\n",
       "      <td>30.0</td>\n",
       "      <td>mr-squiggles</td>\n",
       "      <td>False</td>\n",
       "      <td>US</td>\n",
       "      <td>USD</td>\n",
       "      <td>1243027560</td>\n",
       "      <td>1243027818</td>\n",
       "      <td>1242163613</td>\n",
       "      <td>1242164398</td>\n",
       "      <td>0</td>\n",
       "      <td>0</td>\n",
       "    </tr>\n",
       "    <tr>\n",
       "      <th>3</th>\n",
       "      <td>kkst597742710</td>\n",
       "      <td>Help me write my second novel.</td>\n",
       "      <td>Do your part to help out starving artists and ...</td>\n",
       "      <td>500.0</td>\n",
       "      <td>help-me-write-my-second-novel</td>\n",
       "      <td>False</td>\n",
       "      <td>US</td>\n",
       "      <td>USD</td>\n",
       "      <td>1243555740</td>\n",
       "      <td>1243556121</td>\n",
       "      <td>1240963795</td>\n",
       "      <td>1240966730</td>\n",
       "      <td>18</td>\n",
       "      <td>1</td>\n",
       "    </tr>\n",
       "    <tr>\n",
       "      <th>4</th>\n",
       "      <td>kkst1913131122</td>\n",
       "      <td>Support casting my sculpture in bronze</td>\n",
       "      <td>I'm nearing completion on a sculpture, current...</td>\n",
       "      <td>2000.0</td>\n",
       "      <td>support-casting-my-sculpture-in-bronze</td>\n",
       "      <td>False</td>\n",
       "      <td>US</td>\n",
       "      <td>USD</td>\n",
       "      <td>1243769880</td>\n",
       "      <td>1243770317</td>\n",
       "      <td>1241177914</td>\n",
       "      <td>1241180541</td>\n",
       "      <td>1</td>\n",
       "      <td>0</td>\n",
       "    </tr>\n",
       "    <tr>\n",
       "      <th>5</th>\n",
       "      <td>kkst1085176748</td>\n",
       "      <td>daily digest</td>\n",
       "      <td>I'm a fledgling videoblogger living in Brookly...</td>\n",
       "      <td>700.0</td>\n",
       "      <td>daily-digest</td>\n",
       "      <td>False</td>\n",
       "      <td>US</td>\n",
       "      <td>USD</td>\n",
       "      <td>1243815600</td>\n",
       "      <td>1243816219</td>\n",
       "      <td>1241050799</td>\n",
       "      <td>1241464468</td>\n",
       "      <td>14</td>\n",
       "      <td>0</td>\n",
       "    </tr>\n",
       "    <tr>\n",
       "      <th>6</th>\n",
       "      <td>kkst1468954715</td>\n",
       "      <td>iGoozex - Free iPhone app</td>\n",
       "      <td>I am an independent iPhone developer that beli...</td>\n",
       "      <td>250.0</td>\n",
       "      <td>igoozex-free-iphone-app</td>\n",
       "      <td>False</td>\n",
       "      <td>US</td>\n",
       "      <td>USD</td>\n",
       "      <td>1243872000</td>\n",
       "      <td>1243872028</td>\n",
       "      <td>1241725172</td>\n",
       "      <td>1241736308</td>\n",
       "      <td>2</td>\n",
       "      <td>0</td>\n",
       "    </tr>\n",
       "    <tr>\n",
       "      <th>7</th>\n",
       "      <td>kkst194050612</td>\n",
       "      <td>Drive A Faster Car 2.0</td>\n",
       "      <td>Drive A Faster Car (http://www.driveafastercar...</td>\n",
       "      <td>1000.0</td>\n",
       "      <td>drive-a-faster-car-20</td>\n",
       "      <td>False</td>\n",
       "      <td>US</td>\n",
       "      <td>USD</td>\n",
       "      <td>1244088000</td>\n",
       "      <td>1244088022</td>\n",
       "      <td>1241460541</td>\n",
       "      <td>1241470291</td>\n",
       "      <td>32</td>\n",
       "      <td>1</td>\n",
       "    </tr>\n",
       "    <tr>\n",
       "      <th>8</th>\n",
       "      <td>kkst708883590</td>\n",
       "      <td>\"\"\"\"\"\"\"\"\"\"\"\"\"\"\"\"\"\"\"\"\"\"\"\"\"\"\"\"\"\"\"\"\"\"\"\"\"\"\"\"\"\"\"\"\"\"...</td>\n",
       "      <td>Opening Friday, June 5 2009, on view through S...</td>\n",
       "      <td>5000.0</td>\n",
       "      <td>lostles-at-tinys-giant</td>\n",
       "      <td>False</td>\n",
       "      <td>US</td>\n",
       "      <td>USD</td>\n",
       "      <td>1244264400</td>\n",
       "      <td>1244264422</td>\n",
       "      <td>1241415164</td>\n",
       "      <td>1241480901</td>\n",
       "      <td>44</td>\n",
       "      <td>0</td>\n",
       "    </tr>\n",
       "    <tr>\n",
       "      <th>9</th>\n",
       "      <td>kkst890976740</td>\n",
       "      <td>Choose Your Own Adventure - A Robot Painting S...</td>\n",
       "      <td>This project is for a Choose Your Own Adventur...</td>\n",
       "      <td>3500.0</td>\n",
       "      <td>choose-your-own-adventure-a-robot-painting-series</td>\n",
       "      <td>False</td>\n",
       "      <td>US</td>\n",
       "      <td>USD</td>\n",
       "      <td>1244946540</td>\n",
       "      <td>1244946632</td>\n",
       "      <td>1242268157</td>\n",
       "      <td>1242273460</td>\n",
       "      <td>18</td>\n",
       "      <td>0</td>\n",
       "    </tr>\n",
       "  </tbody>\n",
       "</table>\n",
       "</div>"
      ],
      "text/plain": [
       "       project_id                                               name  \\\n",
       "0  kkst1451568084                                drawing for dollars   \n",
       "1  kkst1474482071  Sponsor Dereck Blackburn (Lostwars) Artist in ...   \n",
       "2   kkst183622197                                      Mr. Squiggles   \n",
       "3   kkst597742710                     Help me write my second novel.   \n",
       "4  kkst1913131122             Support casting my sculpture in bronze   \n",
       "5  kkst1085176748                                       daily digest   \n",
       "6  kkst1468954715                          iGoozex - Free iPhone app   \n",
       "7   kkst194050612                             Drive A Faster Car 2.0   \n",
       "8   kkst708883590  \"\"\"\"\"\"\"\"\"\"\"\"\"\"\"\"\"\"\"\"\"\"\"\"\"\"\"\"\"\"\"\"\"\"\"\"\"\"\"\"\"\"\"\"\"\"...   \n",
       "9   kkst890976740  Choose Your Own Adventure - A Robot Painting S...   \n",
       "\n",
       "                                                desc    goal  \\\n",
       "0  I like drawing pictures. and then i color them...    20.0   \n",
       "1  I, Dereck Blackburn will be taking upon an inc...   300.0   \n",
       "2  So I saw darkpony's successfully funded drawin...    30.0   \n",
       "3  Do your part to help out starving artists and ...   500.0   \n",
       "4  I'm nearing completion on a sculpture, current...  2000.0   \n",
       "5  I'm a fledgling videoblogger living in Brookly...   700.0   \n",
       "6  I am an independent iPhone developer that beli...   250.0   \n",
       "7  Drive A Faster Car (http://www.driveafastercar...  1000.0   \n",
       "8  Opening Friday, June 5 2009, on view through S...  5000.0   \n",
       "9  This project is for a Choose Your Own Adventur...  3500.0   \n",
       "\n",
       "                                            keywords  disable_communication  \\\n",
       "0                                drawing-for-dollars                  False   \n",
       "1  sponsor-dereck-blackburn-lostwars-artist-in-re...                  False   \n",
       "2                                       mr-squiggles                  False   \n",
       "3                      help-me-write-my-second-novel                  False   \n",
       "4             support-casting-my-sculpture-in-bronze                  False   \n",
       "5                                       daily-digest                  False   \n",
       "6                            igoozex-free-iphone-app                  False   \n",
       "7                              drive-a-faster-car-20                  False   \n",
       "8                             lostles-at-tinys-giant                  False   \n",
       "9  choose-your-own-adventure-a-robot-painting-series                  False   \n",
       "\n",
       "  country currency    deadline  state_changed_at  created_at  launched_at  \\\n",
       "0      US      USD  1241333999        1241334017  1240600507   1240602723   \n",
       "1      US      USD  1242429000        1242432018  1240960224   1240975592   \n",
       "2      US      USD  1243027560        1243027818  1242163613   1242164398   \n",
       "3      US      USD  1243555740        1243556121  1240963795   1240966730   \n",
       "4      US      USD  1243769880        1243770317  1241177914   1241180541   \n",
       "5      US      USD  1243815600        1243816219  1241050799   1241464468   \n",
       "6      US      USD  1243872000        1243872028  1241725172   1241736308   \n",
       "7      US      USD  1244088000        1244088022  1241460541   1241470291   \n",
       "8      US      USD  1244264400        1244264422  1241415164   1241480901   \n",
       "9      US      USD  1244946540        1244946632  1242268157   1242273460   \n",
       "\n",
       "   backers_count  final_status  \n",
       "0              3             1  \n",
       "1              2             0  \n",
       "2              0             0  \n",
       "3             18             1  \n",
       "4              1             0  \n",
       "5             14             0  \n",
       "6              2             0  \n",
       "7             32             1  \n",
       "8             44             0  \n",
       "9             18             0  "
      ]
     },
     "execution_count": 2,
     "metadata": {},
     "output_type": "execute_result"
    }
   ],
   "source": [
    "df_train = pd.read_csv('train.csv')\n",
    "print(df_train.shape)\n",
    "df_train.head(10)"
   ]
  },
  {
   "cell_type": "code",
   "execution_count": 3,
   "metadata": {},
   "outputs": [
    {
     "name": "stdout",
     "output_type": "stream",
     "text": [
      "(63465, 12)\n"
     ]
    },
    {
     "data": {
      "text/html": [
       "<div>\n",
       "<style scoped>\n",
       "    .dataframe tbody tr th:only-of-type {\n",
       "        vertical-align: middle;\n",
       "    }\n",
       "\n",
       "    .dataframe tbody tr th {\n",
       "        vertical-align: top;\n",
       "    }\n",
       "\n",
       "    .dataframe thead th {\n",
       "        text-align: right;\n",
       "    }\n",
       "</style>\n",
       "<table border=\"1\" class=\"dataframe\">\n",
       "  <thead>\n",
       "    <tr style=\"text-align: right;\">\n",
       "      <th></th>\n",
       "      <th>project_id</th>\n",
       "      <th>name</th>\n",
       "      <th>desc</th>\n",
       "      <th>goal</th>\n",
       "      <th>keywords</th>\n",
       "      <th>disable_communication</th>\n",
       "      <th>country</th>\n",
       "      <th>currency</th>\n",
       "      <th>deadline</th>\n",
       "      <th>state_changed_at</th>\n",
       "      <th>created_at</th>\n",
       "      <th>launched_at</th>\n",
       "    </tr>\n",
       "  </thead>\n",
       "  <tbody>\n",
       "    <tr>\n",
       "      <th>0</th>\n",
       "      <td>kkst917493670</td>\n",
       "      <td>Bràthair.</td>\n",
       "      <td>My first film, of many to come. Trying to purs...</td>\n",
       "      <td>7000.0</td>\n",
       "      <td>brathair</td>\n",
       "      <td>False</td>\n",
       "      <td>US</td>\n",
       "      <td>USD</td>\n",
       "      <td>1449619185</td>\n",
       "      <td>1449619185</td>\n",
       "      <td>1446002581</td>\n",
       "      <td>1446159585</td>\n",
       "    </tr>\n",
       "    <tr>\n",
       "      <th>1</th>\n",
       "      <td>kkst1664901914</td>\n",
       "      <td>THE SCREENWRITER</td>\n",
       "      <td>A young man that has earned his master's in sc...</td>\n",
       "      <td>35000.0</td>\n",
       "      <td>the-screenwriter</td>\n",
       "      <td>False</td>\n",
       "      <td>US</td>\n",
       "      <td>USD</td>\n",
       "      <td>1453435620</td>\n",
       "      <td>1453435620</td>\n",
       "      <td>1450297323</td>\n",
       "      <td>1450411620</td>\n",
       "    </tr>\n",
       "    <tr>\n",
       "      <th>2</th>\n",
       "      <td>kkst925125077</td>\n",
       "      <td>The Hornets Nest the Fairmont Heights Story</td>\n",
       "      <td>Film about a high school constructed for negro...</td>\n",
       "      <td>49500.0</td>\n",
       "      <td>the-hornets-nest-the-fairmont-heights-story</td>\n",
       "      <td>False</td>\n",
       "      <td>US</td>\n",
       "      <td>USD</td>\n",
       "      <td>1451780700</td>\n",
       "      <td>1451780700</td>\n",
       "      <td>1448581356</td>\n",
       "      <td>1448672128</td>\n",
       "    </tr>\n",
       "    <tr>\n",
       "      <th>3</th>\n",
       "      <td>kkst1427645275</td>\n",
       "      <td>BROTHERS Season 2 - Groundbreaking Transgender...</td>\n",
       "      <td>The acclaimed series about a group of transgen...</td>\n",
       "      <td>40000.0</td>\n",
       "      <td>brothers-season-2-groundbreaking-transgender-male</td>\n",
       "      <td>False</td>\n",
       "      <td>US</td>\n",
       "      <td>USD</td>\n",
       "      <td>1445021518</td>\n",
       "      <td>1445021530</td>\n",
       "      <td>1440966830</td>\n",
       "      <td>1442429518</td>\n",
       "    </tr>\n",
       "    <tr>\n",
       "      <th>4</th>\n",
       "      <td>kkst1714249266</td>\n",
       "      <td>Blackdom the movie</td>\n",
       "      <td>Blackdom's history offers  a new narrative tha...</td>\n",
       "      <td>20000.0</td>\n",
       "      <td>blackdom-the-movie</td>\n",
       "      <td>False</td>\n",
       "      <td>US</td>\n",
       "      <td>USD</td>\n",
       "      <td>1462068840</td>\n",
       "      <td>1462068844</td>\n",
       "      <td>1455765276</td>\n",
       "      <td>1458334890</td>\n",
       "    </tr>\n",
       "    <tr>\n",
       "      <th>5</th>\n",
       "      <td>kkst994744324</td>\n",
       "      <td>Hero's Battle: The Movie produced by Fish4Him ...</td>\n",
       "      <td>Sexual immorality is Satan's weapon to wage wa...</td>\n",
       "      <td>10000.0</td>\n",
       "      <td>heros-battle-the-movie</td>\n",
       "      <td>False</td>\n",
       "      <td>US</td>\n",
       "      <td>USD</td>\n",
       "      <td>1461777994</td>\n",
       "      <td>1461777994</td>\n",
       "      <td>1458171626</td>\n",
       "      <td>1459185994</td>\n",
       "    </tr>\n",
       "    <tr>\n",
       "      <th>6</th>\n",
       "      <td>kkst366471810</td>\n",
       "      <td>Limbo Film Project - 213 lives of Julia</td>\n",
       "      <td>Film focuses on connection between social alie...</td>\n",
       "      <td>1000.0</td>\n",
       "      <td>limbo-film-project-213-lives-of-julia</td>\n",
       "      <td>False</td>\n",
       "      <td>IT</td>\n",
       "      <td>EUR</td>\n",
       "      <td>1450087423</td>\n",
       "      <td>1450087423</td>\n",
       "      <td>1446994619</td>\n",
       "      <td>1447495423</td>\n",
       "    </tr>\n",
       "    <tr>\n",
       "      <th>7</th>\n",
       "      <td>kkst1686645245</td>\n",
       "      <td>Traffic (A Short Film)</td>\n",
       "      <td>Paris is hired by a jazz singer to kill an old...</td>\n",
       "      <td>300.0</td>\n",
       "      <td>traffic-a-short-film</td>\n",
       "      <td>False</td>\n",
       "      <td>GB</td>\n",
       "      <td>GBP</td>\n",
       "      <td>1456516800</td>\n",
       "      <td>1456516801</td>\n",
       "      <td>1450964837</td>\n",
       "      <td>1451340184</td>\n",
       "    </tr>\n",
       "    <tr>\n",
       "      <th>8</th>\n",
       "      <td>kkst1009612119</td>\n",
       "      <td>Modern Gangsters</td>\n",
       "      <td>new web series created by jonney terry</td>\n",
       "      <td>6000.0</td>\n",
       "      <td>modern-gangsters</td>\n",
       "      <td>False</td>\n",
       "      <td>US</td>\n",
       "      <td>USD</td>\n",
       "      <td>1444337940</td>\n",
       "      <td>1444337941</td>\n",
       "      <td>1441745957</td>\n",
       "      <td>1441750564</td>\n",
       "    </tr>\n",
       "    <tr>\n",
       "      <th>9</th>\n",
       "      <td>kkst774947236</td>\n",
       "      <td>KISS ME GOODBYE - A REFRESHING VOICE IN INDIE ...</td>\n",
       "      <td>A martyr faces execution at the hands of the S...</td>\n",
       "      <td>8000.0</td>\n",
       "      <td>kiss-me-goodbye-a-new-voice-in-indie-filmmaking</td>\n",
       "      <td>False</td>\n",
       "      <td>US</td>\n",
       "      <td>USD</td>\n",
       "      <td>1444144222</td>\n",
       "      <td>1444144223</td>\n",
       "      <td>1438886415</td>\n",
       "      <td>1441120222</td>\n",
       "    </tr>\n",
       "  </tbody>\n",
       "</table>\n",
       "</div>"
      ],
      "text/plain": [
       "       project_id                                               name  \\\n",
       "0   kkst917493670                                          Bràthair.   \n",
       "1  kkst1664901914                                   THE SCREENWRITER   \n",
       "2   kkst925125077        The Hornets Nest the Fairmont Heights Story   \n",
       "3  kkst1427645275  BROTHERS Season 2 - Groundbreaking Transgender...   \n",
       "4  kkst1714249266                                 Blackdom the movie   \n",
       "5   kkst994744324  Hero's Battle: The Movie produced by Fish4Him ...   \n",
       "6   kkst366471810            Limbo Film Project - 213 lives of Julia   \n",
       "7  kkst1686645245                             Traffic (A Short Film)   \n",
       "8  kkst1009612119                                   Modern Gangsters   \n",
       "9   kkst774947236  KISS ME GOODBYE - A REFRESHING VOICE IN INDIE ...   \n",
       "\n",
       "                                                desc     goal  \\\n",
       "0  My first film, of many to come. Trying to purs...   7000.0   \n",
       "1  A young man that has earned his master's in sc...  35000.0   \n",
       "2  Film about a high school constructed for negro...  49500.0   \n",
       "3  The acclaimed series about a group of transgen...  40000.0   \n",
       "4  Blackdom's history offers  a new narrative tha...  20000.0   \n",
       "5  Sexual immorality is Satan's weapon to wage wa...  10000.0   \n",
       "6  Film focuses on connection between social alie...   1000.0   \n",
       "7  Paris is hired by a jazz singer to kill an old...    300.0   \n",
       "8             new web series created by jonney terry   6000.0   \n",
       "9  A martyr faces execution at the hands of the S...   8000.0   \n",
       "\n",
       "                                            keywords  disable_communication  \\\n",
       "0                                           brathair                  False   \n",
       "1                                   the-screenwriter                  False   \n",
       "2        the-hornets-nest-the-fairmont-heights-story                  False   \n",
       "3  brothers-season-2-groundbreaking-transgender-male                  False   \n",
       "4                                 blackdom-the-movie                  False   \n",
       "5                             heros-battle-the-movie                  False   \n",
       "6              limbo-film-project-213-lives-of-julia                  False   \n",
       "7                               traffic-a-short-film                  False   \n",
       "8                                   modern-gangsters                  False   \n",
       "9    kiss-me-goodbye-a-new-voice-in-indie-filmmaking                  False   \n",
       "\n",
       "  country currency    deadline  state_changed_at  created_at  launched_at  \n",
       "0      US      USD  1449619185        1449619185  1446002581   1446159585  \n",
       "1      US      USD  1453435620        1453435620  1450297323   1450411620  \n",
       "2      US      USD  1451780700        1451780700  1448581356   1448672128  \n",
       "3      US      USD  1445021518        1445021530  1440966830   1442429518  \n",
       "4      US      USD  1462068840        1462068844  1455765276   1458334890  \n",
       "5      US      USD  1461777994        1461777994  1458171626   1459185994  \n",
       "6      IT      EUR  1450087423        1450087423  1446994619   1447495423  \n",
       "7      GB      GBP  1456516800        1456516801  1450964837   1451340184  \n",
       "8      US      USD  1444337940        1444337941  1441745957   1441750564  \n",
       "9      US      USD  1444144222        1444144223  1438886415   1441120222  "
      ]
     },
     "execution_count": 3,
     "metadata": {},
     "output_type": "execute_result"
    }
   ],
   "source": [
    "df_test = pd.read_csv('test.csv')\n",
    "print(df_test.shape)\n",
    "df_test.head(10)"
   ]
  },
  {
   "cell_type": "code",
   "execution_count": 4,
   "metadata": {},
   "outputs": [
    {
     "data": {
      "text/plain": [
       "Index(['project_id', 'name', 'desc', 'goal', 'keywords',\n",
       "       'disable_communication', 'country', 'currency', 'deadline',\n",
       "       'state_changed_at', 'created_at', 'launched_at', 'backers_count',\n",
       "       'final_status'],\n",
       "      dtype='object')"
      ]
     },
     "execution_count": 4,
     "metadata": {},
     "output_type": "execute_result"
    }
   ],
   "source": [
    "df_train.columns"
   ]
  },
  {
   "cell_type": "code",
   "execution_count": 5,
   "metadata": {},
   "outputs": [
    {
     "data": {
      "text/plain": [
       "Index(['project_id', 'name', 'desc', 'goal', 'keywords',\n",
       "       'disable_communication', 'country', 'currency', 'deadline',\n",
       "       'state_changed_at', 'created_at', 'launched_at'],\n",
       "      dtype='object')"
      ]
     },
     "execution_count": 5,
     "metadata": {},
     "output_type": "execute_result"
    }
   ],
   "source": [
    "df_test.columns"
   ]
  },
  {
   "cell_type": "code",
   "execution_count": null,
   "metadata": {},
   "outputs": [],
   "source": []
  },
  {
   "cell_type": "markdown",
   "metadata": {},
   "source": [
    "##### TRAIN DATASET"
   ]
  },
  {
   "cell_type": "code",
   "execution_count": 6,
   "metadata": {},
   "outputs": [
    {
     "data": {
      "text/html": [
       "<div>\n",
       "<style scoped>\n",
       "    .dataframe tbody tr th:only-of-type {\n",
       "        vertical-align: middle;\n",
       "    }\n",
       "\n",
       "    .dataframe tbody tr th {\n",
       "        vertical-align: top;\n",
       "    }\n",
       "\n",
       "    .dataframe thead th {\n",
       "        text-align: right;\n",
       "    }\n",
       "</style>\n",
       "<table border=\"1\" class=\"dataframe\">\n",
       "  <thead>\n",
       "    <tr style=\"text-align: right;\">\n",
       "      <th></th>\n",
       "      <th>goal</th>\n",
       "      <th>disable_communication</th>\n",
       "      <th>deadline</th>\n",
       "      <th>state_changed_at</th>\n",
       "      <th>created_at</th>\n",
       "      <th>launched_at</th>\n",
       "      <th>backers_count</th>\n",
       "      <th>final_status</th>\n",
       "    </tr>\n",
       "  </thead>\n",
       "  <tbody>\n",
       "    <tr>\n",
       "      <th>goal</th>\n",
       "      <td>1.000000</td>\n",
       "      <td>-0.000602</td>\n",
       "      <td>0.021468</td>\n",
       "      <td>0.021179</td>\n",
       "      <td>0.020937</td>\n",
       "      <td>0.020859</td>\n",
       "      <td>0.008733</td>\n",
       "      <td>-0.018984</td>\n",
       "    </tr>\n",
       "    <tr>\n",
       "      <th>disable_communication</th>\n",
       "      <td>-0.000602</td>\n",
       "      <td>1.000000</td>\n",
       "      <td>0.046417</td>\n",
       "      <td>0.043782</td>\n",
       "      <td>0.048588</td>\n",
       "      <td>0.046166</td>\n",
       "      <td>-0.003294</td>\n",
       "      <td>-0.037517</td>\n",
       "    </tr>\n",
       "    <tr>\n",
       "      <th>deadline</th>\n",
       "      <td>0.021468</td>\n",
       "      <td>0.046417</td>\n",
       "      <td>1.000000</td>\n",
       "      <td>0.999930</td>\n",
       "      <td>0.984109</td>\n",
       "      <td>0.999674</td>\n",
       "      <td>0.005281</td>\n",
       "      <td>-0.123052</td>\n",
       "    </tr>\n",
       "    <tr>\n",
       "      <th>state_changed_at</th>\n",
       "      <td>0.021179</td>\n",
       "      <td>0.043782</td>\n",
       "      <td>0.999930</td>\n",
       "      <td>1.000000</td>\n",
       "      <td>0.984029</td>\n",
       "      <td>0.999641</td>\n",
       "      <td>0.005501</td>\n",
       "      <td>-0.121628</td>\n",
       "    </tr>\n",
       "    <tr>\n",
       "      <th>created_at</th>\n",
       "      <td>0.020937</td>\n",
       "      <td>0.048588</td>\n",
       "      <td>0.984109</td>\n",
       "      <td>0.984029</td>\n",
       "      <td>1.000000</td>\n",
       "      <td>0.984558</td>\n",
       "      <td>0.001053</td>\n",
       "      <td>-0.126394</td>\n",
       "    </tr>\n",
       "    <tr>\n",
       "      <th>launched_at</th>\n",
       "      <td>0.020859</td>\n",
       "      <td>0.046166</td>\n",
       "      <td>0.999674</td>\n",
       "      <td>0.999641</td>\n",
       "      <td>0.984558</td>\n",
       "      <td>1.000000</td>\n",
       "      <td>0.005357</td>\n",
       "      <td>-0.119916</td>\n",
       "    </tr>\n",
       "    <tr>\n",
       "      <th>backers_count</th>\n",
       "      <td>0.008733</td>\n",
       "      <td>-0.003294</td>\n",
       "      <td>0.005281</td>\n",
       "      <td>0.005501</td>\n",
       "      <td>0.001053</td>\n",
       "      <td>0.005357</td>\n",
       "      <td>1.000000</td>\n",
       "      <td>0.116764</td>\n",
       "    </tr>\n",
       "    <tr>\n",
       "      <th>final_status</th>\n",
       "      <td>-0.018984</td>\n",
       "      <td>-0.037517</td>\n",
       "      <td>-0.123052</td>\n",
       "      <td>-0.121628</td>\n",
       "      <td>-0.126394</td>\n",
       "      <td>-0.119916</td>\n",
       "      <td>0.116764</td>\n",
       "      <td>1.000000</td>\n",
       "    </tr>\n",
       "  </tbody>\n",
       "</table>\n",
       "</div>"
      ],
      "text/plain": [
       "                           goal  disable_communication  deadline  \\\n",
       "goal                   1.000000              -0.000602  0.021468   \n",
       "disable_communication -0.000602               1.000000  0.046417   \n",
       "deadline               0.021468               0.046417  1.000000   \n",
       "state_changed_at       0.021179               0.043782  0.999930   \n",
       "created_at             0.020937               0.048588  0.984109   \n",
       "launched_at            0.020859               0.046166  0.999674   \n",
       "backers_count          0.008733              -0.003294  0.005281   \n",
       "final_status          -0.018984              -0.037517 -0.123052   \n",
       "\n",
       "                       state_changed_at  created_at  launched_at  \\\n",
       "goal                           0.021179    0.020937     0.020859   \n",
       "disable_communication          0.043782    0.048588     0.046166   \n",
       "deadline                       0.999930    0.984109     0.999674   \n",
       "state_changed_at               1.000000    0.984029     0.999641   \n",
       "created_at                     0.984029    1.000000     0.984558   \n",
       "launched_at                    0.999641    0.984558     1.000000   \n",
       "backers_count                  0.005501    0.001053     0.005357   \n",
       "final_status                  -0.121628   -0.126394    -0.119916   \n",
       "\n",
       "                       backers_count  final_status  \n",
       "goal                        0.008733     -0.018984  \n",
       "disable_communication      -0.003294     -0.037517  \n",
       "deadline                    0.005281     -0.123052  \n",
       "state_changed_at            0.005501     -0.121628  \n",
       "created_at                  0.001053     -0.126394  \n",
       "launched_at                 0.005357     -0.119916  \n",
       "backers_count               1.000000      0.116764  \n",
       "final_status                0.116764      1.000000  "
      ]
     },
     "execution_count": 6,
     "metadata": {},
     "output_type": "execute_result"
    }
   ],
   "source": [
    "df_train.corr()"
   ]
  },
  {
   "cell_type": "code",
   "execution_count": 7,
   "metadata": {},
   "outputs": [],
   "source": [
    "df_train = df_train.drop(['name', 'desc', 'keywords', 'country', 'currency'], axis = 'columns')"
   ]
  },
  {
   "cell_type": "code",
   "execution_count": 8,
   "metadata": {},
   "outputs": [
    {
     "data": {
      "text/html": [
       "<div>\n",
       "<style scoped>\n",
       "    .dataframe tbody tr th:only-of-type {\n",
       "        vertical-align: middle;\n",
       "    }\n",
       "\n",
       "    .dataframe tbody tr th {\n",
       "        vertical-align: top;\n",
       "    }\n",
       "\n",
       "    .dataframe thead th {\n",
       "        text-align: right;\n",
       "    }\n",
       "</style>\n",
       "<table border=\"1\" class=\"dataframe\">\n",
       "  <thead>\n",
       "    <tr style=\"text-align: right;\">\n",
       "      <th></th>\n",
       "      <th>project_id</th>\n",
       "      <th>goal</th>\n",
       "      <th>disable_communication</th>\n",
       "      <th>deadline</th>\n",
       "      <th>state_changed_at</th>\n",
       "      <th>created_at</th>\n",
       "      <th>launched_at</th>\n",
       "      <th>backers_count</th>\n",
       "      <th>final_status</th>\n",
       "    </tr>\n",
       "  </thead>\n",
       "  <tbody>\n",
       "    <tr>\n",
       "      <th>0</th>\n",
       "      <td>kkst1451568084</td>\n",
       "      <td>20.0</td>\n",
       "      <td>False</td>\n",
       "      <td>1241333999</td>\n",
       "      <td>1241334017</td>\n",
       "      <td>1240600507</td>\n",
       "      <td>1240602723</td>\n",
       "      <td>3</td>\n",
       "      <td>1</td>\n",
       "    </tr>\n",
       "    <tr>\n",
       "      <th>1</th>\n",
       "      <td>kkst1474482071</td>\n",
       "      <td>300.0</td>\n",
       "      <td>False</td>\n",
       "      <td>1242429000</td>\n",
       "      <td>1242432018</td>\n",
       "      <td>1240960224</td>\n",
       "      <td>1240975592</td>\n",
       "      <td>2</td>\n",
       "      <td>0</td>\n",
       "    </tr>\n",
       "    <tr>\n",
       "      <th>2</th>\n",
       "      <td>kkst183622197</td>\n",
       "      <td>30.0</td>\n",
       "      <td>False</td>\n",
       "      <td>1243027560</td>\n",
       "      <td>1243027818</td>\n",
       "      <td>1242163613</td>\n",
       "      <td>1242164398</td>\n",
       "      <td>0</td>\n",
       "      <td>0</td>\n",
       "    </tr>\n",
       "    <tr>\n",
       "      <th>3</th>\n",
       "      <td>kkst597742710</td>\n",
       "      <td>500.0</td>\n",
       "      <td>False</td>\n",
       "      <td>1243555740</td>\n",
       "      <td>1243556121</td>\n",
       "      <td>1240963795</td>\n",
       "      <td>1240966730</td>\n",
       "      <td>18</td>\n",
       "      <td>1</td>\n",
       "    </tr>\n",
       "    <tr>\n",
       "      <th>4</th>\n",
       "      <td>kkst1913131122</td>\n",
       "      <td>2000.0</td>\n",
       "      <td>False</td>\n",
       "      <td>1243769880</td>\n",
       "      <td>1243770317</td>\n",
       "      <td>1241177914</td>\n",
       "      <td>1241180541</td>\n",
       "      <td>1</td>\n",
       "      <td>0</td>\n",
       "    </tr>\n",
       "  </tbody>\n",
       "</table>\n",
       "</div>"
      ],
      "text/plain": [
       "       project_id    goal  disable_communication    deadline  \\\n",
       "0  kkst1451568084    20.0                  False  1241333999   \n",
       "1  kkst1474482071   300.0                  False  1242429000   \n",
       "2   kkst183622197    30.0                  False  1243027560   \n",
       "3   kkst597742710   500.0                  False  1243555740   \n",
       "4  kkst1913131122  2000.0                  False  1243769880   \n",
       "\n",
       "   state_changed_at  created_at  launched_at  backers_count  final_status  \n",
       "0        1241334017  1240600507   1240602723              3             1  \n",
       "1        1242432018  1240960224   1240975592              2             0  \n",
       "2        1243027818  1242163613   1242164398              0             0  \n",
       "3        1243556121  1240963795   1240966730             18             1  \n",
       "4        1243770317  1241177914   1241180541              1             0  "
      ]
     },
     "execution_count": 8,
     "metadata": {},
     "output_type": "execute_result"
    }
   ],
   "source": [
    "df_train.head()"
   ]
  },
  {
   "cell_type": "code",
   "execution_count": 9,
   "metadata": {},
   "outputs": [
    {
     "data": {
      "text/plain": [
       "project_id               0\n",
       "goal                     0\n",
       "disable_communication    0\n",
       "deadline                 0\n",
       "state_changed_at         0\n",
       "created_at               0\n",
       "launched_at              0\n",
       "backers_count            0\n",
       "final_status             0\n",
       "dtype: int64"
      ]
     },
     "execution_count": 9,
     "metadata": {},
     "output_type": "execute_result"
    }
   ],
   "source": [
    "df_train.isnull().sum()"
   ]
  },
  {
   "cell_type": "code",
   "execution_count": 10,
   "metadata": {},
   "outputs": [
    {
     "data": {
      "text/plain": [
       "array([False,  True])"
      ]
     },
     "execution_count": 10,
     "metadata": {},
     "output_type": "execute_result"
    }
   ],
   "source": [
    "df_train['disable_communication'].unique()"
   ]
  },
  {
   "cell_type": "code",
   "execution_count": 11,
   "metadata": {},
   "outputs": [],
   "source": [
    "df_train['disable_communication'] = df_train['disable_communication'].replace({True: 1, False: 0})"
   ]
  },
  {
   "cell_type": "code",
   "execution_count": 12,
   "metadata": {},
   "outputs": [],
   "source": [
    "encoder = LabelEncoder()"
   ]
  },
  {
   "cell_type": "code",
   "execution_count": 13,
   "metadata": {},
   "outputs": [],
   "source": [
    "df_train['deadline'] = encoder.fit_transform(df_train['deadline'])\n",
    "df_train['state_changed_at'] = encoder.fit_transform(df_train['state_changed_at'])\n",
    "df_train['created_at'] = encoder.fit_transform(df_train['created_at'])\n",
    "df_train['launched_at'] = encoder.fit_transform(df_train['launched_at'])"
   ]
  },
  {
   "cell_type": "code",
   "execution_count": 14,
   "metadata": {},
   "outputs": [],
   "source": [
    "df_train['project_id'] = encoder.fit_transform(df_train['project_id'])"
   ]
  },
  {
   "cell_type": "code",
   "execution_count": 15,
   "metadata": {},
   "outputs": [
    {
     "data": {
      "text/html": [
       "<div>\n",
       "<style scoped>\n",
       "    .dataframe tbody tr th:only-of-type {\n",
       "        vertical-align: middle;\n",
       "    }\n",
       "\n",
       "    .dataframe tbody tr th {\n",
       "        vertical-align: top;\n",
       "    }\n",
       "\n",
       "    .dataframe thead th {\n",
       "        text-align: right;\n",
       "    }\n",
       "</style>\n",
       "<table border=\"1\" class=\"dataframe\">\n",
       "  <thead>\n",
       "    <tr style=\"text-align: right;\">\n",
       "      <th></th>\n",
       "      <th>project_id</th>\n",
       "      <th>goal</th>\n",
       "      <th>disable_communication</th>\n",
       "      <th>deadline</th>\n",
       "      <th>state_changed_at</th>\n",
       "      <th>created_at</th>\n",
       "      <th>launched_at</th>\n",
       "      <th>backers_count</th>\n",
       "      <th>final_status</th>\n",
       "    </tr>\n",
       "  </thead>\n",
       "  <tbody>\n",
       "    <tr>\n",
       "      <th>0</th>\n",
       "      <td>25452</td>\n",
       "      <td>20.0</td>\n",
       "      <td>0</td>\n",
       "      <td>0</td>\n",
       "      <td>0</td>\n",
       "      <td>1</td>\n",
       "      <td>0</td>\n",
       "      <td>3</td>\n",
       "      <td>1</td>\n",
       "    </tr>\n",
       "    <tr>\n",
       "      <th>1</th>\n",
       "      <td>26733</td>\n",
       "      <td>300.0</td>\n",
       "      <td>0</td>\n",
       "      <td>1</td>\n",
       "      <td>3</td>\n",
       "      <td>4</td>\n",
       "      <td>3</td>\n",
       "      <td>2</td>\n",
       "      <td>0</td>\n",
       "    </tr>\n",
       "    <tr>\n",
       "      <th>2</th>\n",
       "      <td>47110</td>\n",
       "      <td>30.0</td>\n",
       "      <td>0</td>\n",
       "      <td>2</td>\n",
       "      <td>4</td>\n",
       "      <td>24</td>\n",
       "      <td>20</td>\n",
       "      <td>0</td>\n",
       "      <td>0</td>\n",
       "    </tr>\n",
       "    <tr>\n",
       "      <th>3</th>\n",
       "      <td>85933</td>\n",
       "      <td>500.0</td>\n",
       "      <td>0</td>\n",
       "      <td>3</td>\n",
       "      <td>5</td>\n",
       "      <td>5</td>\n",
       "      <td>2</td>\n",
       "      <td>18</td>\n",
       "      <td>1</td>\n",
       "    </tr>\n",
       "    <tr>\n",
       "      <th>4</th>\n",
       "      <td>51484</td>\n",
       "      <td>2000.0</td>\n",
       "      <td>0</td>\n",
       "      <td>4</td>\n",
       "      <td>6</td>\n",
       "      <td>10</td>\n",
       "      <td>7</td>\n",
       "      <td>1</td>\n",
       "      <td>0</td>\n",
       "    </tr>\n",
       "  </tbody>\n",
       "</table>\n",
       "</div>"
      ],
      "text/plain": [
       "   project_id    goal  disable_communication  deadline  state_changed_at  \\\n",
       "0       25452    20.0                      0         0                 0   \n",
       "1       26733   300.0                      0         1                 3   \n",
       "2       47110    30.0                      0         2                 4   \n",
       "3       85933   500.0                      0         3                 5   \n",
       "4       51484  2000.0                      0         4                 6   \n",
       "\n",
       "   created_at  launched_at  backers_count  final_status  \n",
       "0           1            0              3             1  \n",
       "1           4            3              2             0  \n",
       "2          24           20              0             0  \n",
       "3           5            2             18             1  \n",
       "4          10            7              1             0  "
      ]
     },
     "execution_count": 15,
     "metadata": {},
     "output_type": "execute_result"
    }
   ],
   "source": [
    "df_train.head()"
   ]
  },
  {
   "cell_type": "code",
   "execution_count": null,
   "metadata": {},
   "outputs": [],
   "source": []
  },
  {
   "cell_type": "markdown",
   "metadata": {},
   "source": [
    "##### TEST DATASET"
   ]
  },
  {
   "cell_type": "code",
   "execution_count": 16,
   "metadata": {},
   "outputs": [
    {
     "data": {
      "text/html": [
       "<div>\n",
       "<style scoped>\n",
       "    .dataframe tbody tr th:only-of-type {\n",
       "        vertical-align: middle;\n",
       "    }\n",
       "\n",
       "    .dataframe tbody tr th {\n",
       "        vertical-align: top;\n",
       "    }\n",
       "\n",
       "    .dataframe thead th {\n",
       "        text-align: right;\n",
       "    }\n",
       "</style>\n",
       "<table border=\"1\" class=\"dataframe\">\n",
       "  <thead>\n",
       "    <tr style=\"text-align: right;\">\n",
       "      <th></th>\n",
       "      <th>goal</th>\n",
       "      <th>disable_communication</th>\n",
       "      <th>deadline</th>\n",
       "      <th>state_changed_at</th>\n",
       "      <th>created_at</th>\n",
       "      <th>launched_at</th>\n",
       "    </tr>\n",
       "  </thead>\n",
       "  <tbody>\n",
       "    <tr>\n",
       "      <th>goal</th>\n",
       "      <td>1.000000</td>\n",
       "      <td>0.016506</td>\n",
       "      <td>-0.001759</td>\n",
       "      <td>-0.002567</td>\n",
       "      <td>-0.002588</td>\n",
       "      <td>-0.002765</td>\n",
       "    </tr>\n",
       "    <tr>\n",
       "      <th>disable_communication</th>\n",
       "      <td>0.016506</td>\n",
       "      <td>1.000000</td>\n",
       "      <td>-0.031726</td>\n",
       "      <td>-0.040017</td>\n",
       "      <td>-0.018401</td>\n",
       "      <td>-0.032701</td>\n",
       "    </tr>\n",
       "    <tr>\n",
       "      <th>deadline</th>\n",
       "      <td>-0.001759</td>\n",
       "      <td>-0.031726</td>\n",
       "      <td>1.000000</td>\n",
       "      <td>0.997380</td>\n",
       "      <td>0.814225</td>\n",
       "      <td>0.998193</td>\n",
       "    </tr>\n",
       "    <tr>\n",
       "      <th>state_changed_at</th>\n",
       "      <td>-0.002567</td>\n",
       "      <td>-0.040017</td>\n",
       "      <td>0.997380</td>\n",
       "      <td>1.000000</td>\n",
       "      <td>0.813101</td>\n",
       "      <td>0.996902</td>\n",
       "    </tr>\n",
       "    <tr>\n",
       "      <th>created_at</th>\n",
       "      <td>-0.002588</td>\n",
       "      <td>-0.018401</td>\n",
       "      <td>0.814225</td>\n",
       "      <td>0.813101</td>\n",
       "      <td>1.000000</td>\n",
       "      <td>0.816547</td>\n",
       "    </tr>\n",
       "    <tr>\n",
       "      <th>launched_at</th>\n",
       "      <td>-0.002765</td>\n",
       "      <td>-0.032701</td>\n",
       "      <td>0.998193</td>\n",
       "      <td>0.996902</td>\n",
       "      <td>0.816547</td>\n",
       "      <td>1.000000</td>\n",
       "    </tr>\n",
       "  </tbody>\n",
       "</table>\n",
       "</div>"
      ],
      "text/plain": [
       "                           goal  disable_communication  deadline  \\\n",
       "goal                   1.000000               0.016506 -0.001759   \n",
       "disable_communication  0.016506               1.000000 -0.031726   \n",
       "deadline              -0.001759              -0.031726  1.000000   \n",
       "state_changed_at      -0.002567              -0.040017  0.997380   \n",
       "created_at            -0.002588              -0.018401  0.814225   \n",
       "launched_at           -0.002765              -0.032701  0.998193   \n",
       "\n",
       "                       state_changed_at  created_at  launched_at  \n",
       "goal                          -0.002567   -0.002588    -0.002765  \n",
       "disable_communication         -0.040017   -0.018401    -0.032701  \n",
       "deadline                       0.997380    0.814225     0.998193  \n",
       "state_changed_at               1.000000    0.813101     0.996902  \n",
       "created_at                     0.813101    1.000000     0.816547  \n",
       "launched_at                    0.996902    0.816547     1.000000  "
      ]
     },
     "execution_count": 16,
     "metadata": {},
     "output_type": "execute_result"
    }
   ],
   "source": [
    "df_test.corr()"
   ]
  },
  {
   "cell_type": "code",
   "execution_count": 17,
   "metadata": {},
   "outputs": [
    {
     "data": {
      "text/plain": [
       "project_id               0\n",
       "name                     0\n",
       "desc                     4\n",
       "goal                     0\n",
       "keywords                 0\n",
       "disable_communication    0\n",
       "country                  0\n",
       "currency                 0\n",
       "deadline                 0\n",
       "state_changed_at         0\n",
       "created_at               0\n",
       "launched_at              0\n",
       "dtype: int64"
      ]
     },
     "execution_count": 17,
     "metadata": {},
     "output_type": "execute_result"
    }
   ],
   "source": [
    "df_test.isnull().sum()"
   ]
  },
  {
   "cell_type": "code",
   "execution_count": 18,
   "metadata": {},
   "outputs": [
    {
     "data": {
      "text/plain": [
       "Index(['project_id', 'name', 'desc', 'goal', 'keywords',\n",
       "       'disable_communication', 'country', 'currency', 'deadline',\n",
       "       'state_changed_at', 'created_at', 'launched_at'],\n",
       "      dtype='object')"
      ]
     },
     "execution_count": 18,
     "metadata": {},
     "output_type": "execute_result"
    }
   ],
   "source": [
    "df_test.columns"
   ]
  },
  {
   "cell_type": "code",
   "execution_count": 19,
   "metadata": {},
   "outputs": [],
   "source": [
    "df_test = df_test.drop(['name', 'desc', 'keywords','country','currency'], axis = 'columns')"
   ]
  },
  {
   "cell_type": "code",
   "execution_count": 20,
   "metadata": {},
   "outputs": [],
   "source": [
    "df_test['deadline'] = encoder.fit_transform(df_test['deadline'])\n",
    "df_test['state_changed_at'] = encoder.fit_transform(df_test['state_changed_at'])\n",
    "df_test['created_at'] = encoder.fit_transform(df_test['created_at'])\n",
    "df_test['launched_at'] = encoder.fit_transform(df_test['launched_at'])\n",
    "df_test['project_id'] = encoder.fit_transform(df_test['project_id'])"
   ]
  },
  {
   "cell_type": "code",
   "execution_count": 21,
   "metadata": {},
   "outputs": [],
   "source": [
    "df_test['disable_communication'] = encoder.fit_transform(df_test['disable_communication'])"
   ]
  },
  {
   "cell_type": "code",
   "execution_count": 22,
   "metadata": {},
   "outputs": [
    {
     "data": {
      "text/html": [
       "<div>\n",
       "<style scoped>\n",
       "    .dataframe tbody tr th:only-of-type {\n",
       "        vertical-align: middle;\n",
       "    }\n",
       "\n",
       "    .dataframe tbody tr th {\n",
       "        vertical-align: top;\n",
       "    }\n",
       "\n",
       "    .dataframe thead th {\n",
       "        text-align: right;\n",
       "    }\n",
       "</style>\n",
       "<table border=\"1\" class=\"dataframe\">\n",
       "  <thead>\n",
       "    <tr style=\"text-align: right;\">\n",
       "      <th></th>\n",
       "      <th>project_id</th>\n",
       "      <th>goal</th>\n",
       "      <th>disable_communication</th>\n",
       "      <th>deadline</th>\n",
       "      <th>state_changed_at</th>\n",
       "      <th>created_at</th>\n",
       "      <th>launched_at</th>\n",
       "    </tr>\n",
       "  </thead>\n",
       "  <tbody>\n",
       "    <tr>\n",
       "      <th>0</th>\n",
       "      <td>60766</td>\n",
       "      <td>7000.0</td>\n",
       "      <td>0</td>\n",
       "      <td>20821</td>\n",
       "      <td>20999</td>\n",
       "      <td>25478</td>\n",
       "      <td>21450</td>\n",
       "    </tr>\n",
       "    <tr>\n",
       "      <th>1</th>\n",
       "      <td>22093</td>\n",
       "      <td>35000.0</td>\n",
       "      <td>0</td>\n",
       "      <td>24666</td>\n",
       "      <td>24847</td>\n",
       "      <td>30042</td>\n",
       "      <td>26468</td>\n",
       "    </tr>\n",
       "    <tr>\n",
       "      <th>2</th>\n",
       "      <td>61018</td>\n",
       "      <td>49500.0</td>\n",
       "      <td>0</td>\n",
       "      <td>23278</td>\n",
       "      <td>23407</td>\n",
       "      <td>28476</td>\n",
       "      <td>24769</td>\n",
       "    </tr>\n",
       "    <tr>\n",
       "      <th>3</th>\n",
       "      <td>14114</td>\n",
       "      <td>40000.0</td>\n",
       "      <td>0</td>\n",
       "      <td>15405</td>\n",
       "      <td>15571</td>\n",
       "      <td>19398</td>\n",
       "      <td>16783</td>\n",
       "    </tr>\n",
       "    <tr>\n",
       "      <th>4</th>\n",
       "      <td>23770</td>\n",
       "      <td>20000.0</td>\n",
       "      <td>0</td>\n",
       "      <td>33869</td>\n",
       "      <td>34117</td>\n",
       "      <td>36026</td>\n",
       "      <td>35203</td>\n",
       "    </tr>\n",
       "    <tr>\n",
       "      <th>5</th>\n",
       "      <td>63306</td>\n",
       "      <td>10000.0</td>\n",
       "      <td>0</td>\n",
       "      <td>33483</td>\n",
       "      <td>33735</td>\n",
       "      <td>38925</td>\n",
       "      <td>36055</td>\n",
       "    </tr>\n",
       "    <tr>\n",
       "      <th>6</th>\n",
       "      <td>42875</td>\n",
       "      <td>1000.0</td>\n",
       "      <td>0</td>\n",
       "      <td>21444</td>\n",
       "      <td>21613</td>\n",
       "      <td>26618</td>\n",
       "      <td>23337</td>\n",
       "    </tr>\n",
       "    <tr>\n",
       "      <th>7</th>\n",
       "      <td>22792</td>\n",
       "      <td>300.0</td>\n",
       "      <td>0</td>\n",
       "      <td>27449</td>\n",
       "      <td>27690</td>\n",
       "      <td>30526</td>\n",
       "      <td>26997</td>\n",
       "    </tr>\n",
       "    <tr>\n",
       "      <th>8</th>\n",
       "      <td>311</td>\n",
       "      <td>6000.0</td>\n",
       "      <td>0</td>\n",
       "      <td>14550</td>\n",
       "      <td>14743</td>\n",
       "      <td>20405</td>\n",
       "      <td>15830</td>\n",
       "    </tr>\n",
       "    <tr>\n",
       "      <th>9</th>\n",
       "      <td>56107</td>\n",
       "      <td>8000.0</td>\n",
       "      <td>0</td>\n",
       "      <td>14349</td>\n",
       "      <td>14542</td>\n",
       "      <td>16878</td>\n",
       "      <td>15038</td>\n",
       "    </tr>\n",
       "  </tbody>\n",
       "</table>\n",
       "</div>"
      ],
      "text/plain": [
       "   project_id     goal  disable_communication  deadline  state_changed_at  \\\n",
       "0       60766   7000.0                      0     20821             20999   \n",
       "1       22093  35000.0                      0     24666             24847   \n",
       "2       61018  49500.0                      0     23278             23407   \n",
       "3       14114  40000.0                      0     15405             15571   \n",
       "4       23770  20000.0                      0     33869             34117   \n",
       "5       63306  10000.0                      0     33483             33735   \n",
       "6       42875   1000.0                      0     21444             21613   \n",
       "7       22792    300.0                      0     27449             27690   \n",
       "8         311   6000.0                      0     14550             14743   \n",
       "9       56107   8000.0                      0     14349             14542   \n",
       "\n",
       "   created_at  launched_at  \n",
       "0       25478        21450  \n",
       "1       30042        26468  \n",
       "2       28476        24769  \n",
       "3       19398        16783  \n",
       "4       36026        35203  \n",
       "5       38925        36055  \n",
       "6       26618        23337  \n",
       "7       30526        26997  \n",
       "8       20405        15830  \n",
       "9       16878        15038  "
      ]
     },
     "execution_count": 22,
     "metadata": {},
     "output_type": "execute_result"
    }
   ],
   "source": [
    "df_test.head(10)"
   ]
  },
  {
   "cell_type": "code",
   "execution_count": null,
   "metadata": {},
   "outputs": [],
   "source": []
  },
  {
   "cell_type": "markdown",
   "metadata": {},
   "source": [
    "##### DATA VISUALIZATION"
   ]
  },
  {
   "cell_type": "code",
   "execution_count": 23,
   "metadata": {},
   "outputs": [
    {
     "data": {
      "image/png": "[encoded data removed]",
      "text/plain": [
       "<Figure size 360x360 with 1 Axes>"
      ]
     },
     "metadata": {
      "needs_background": "light"
     },
     "output_type": "display_data"
    }
   ],
   "source": [
    "sns.catplot(x=\"final_status\", y=\"backers_count\", kind=\"boxen\",\n",
    "            data=df_train);"
   ]
  },
  {
   "cell_type": "code",
   "execution_count": 24,
   "metadata": {},
   "outputs": [
    {
     "data": {
      "image/png": "[encoded data removed]",
      "text/plain": [
       "<Figure size 360x360 with 1 Axes>"
      ]
     },
     "metadata": {
      "needs_background": "light"
     },
     "output_type": "display_data"
    }
   ],
   "source": [
    "sns.catplot(x=\"final_status\", y=\"created_at\", kind=\"boxen\",\n",
    "            data=df_train);"
   ]
  },
  {
   "cell_type": "code",
   "execution_count": 25,
   "metadata": {},
   "outputs": [
    {
     "data": {
      "image/png": "[encoded data removed]",
      "text/plain": [
       "<Figure size 360x360 with 1 Axes>"
      ]
     },
     "metadata": {
      "needs_background": "light"
     },
     "output_type": "display_data"
    }
   ],
   "source": [
    "sns.catplot(x=\"final_status\", y=\"launched_at\", kind=\"boxen\",\n",
    "            data=df_train);"
   ]
  },
  {
   "cell_type": "code",
   "execution_count": null,
   "metadata": {},
   "outputs": [],
   "source": []
  },
  {
   "cell_type": "markdown",
   "metadata": {},
   "source": [
    "##### Correlation of train dataset"
   ]
  },
  {
   "cell_type": "code",
   "execution_count": 26,
   "metadata": {},
   "outputs": [
    {
     "data": {
      "text/plain": [
       "<matplotlib.axes._subplots.AxesSubplot at 0xced0f60>"
      ]
     },
     "execution_count": 26,
     "metadata": {},
     "output_type": "execute_result"
    },
    {
     "data": {
      "image/png": "[encoded data removed]",
      "text/plain": [
       "<Figure size 1080x1080 with 2 Axes>"
      ]
     },
     "metadata": {
      "needs_background": "light"
     },
     "output_type": "display_data"
    }
   ],
   "source": [
    "plt.figure(figsize = (15,15))\n",
    "sns.heatmap(df_train.corr(), annot = True, cmap = 'Blues_r')"
   ]
  },
  {
   "cell_type": "code",
   "execution_count": null,
   "metadata": {},
   "outputs": [],
   "source": []
  },
  {
   "cell_type": "markdown",
   "metadata": {},
   "source": [
    "##### Correlation for test dataset"
   ]
  },
  {
   "cell_type": "code",
   "execution_count": 27,
   "metadata": {},
   "outputs": [
    {
     "data": {
      "text/plain": [
       "<matplotlib.axes._subplots.AxesSubplot at 0xcfa1e80>"
      ]
     },
     "execution_count": 27,
     "metadata": {},
     "output_type": "execute_result"
    },
    {
     "data": {
      "image/png": "[encoded data removed]",
      "text/plain": [
       "<Figure size 1080x1080 with 2 Axes>"
      ]
     },
     "metadata": {
      "needs_background": "light"
     },
     "output_type": "display_data"
    }
   ],
   "source": [
    "plt.figure(figsize = (15,15))\n",
    "sns.heatmap(df_test.corr(), annot = True, cmap = 'Blues_r')"
   ]
  },
  {
   "cell_type": "code",
   "execution_count": null,
   "metadata": {},
   "outputs": [],
   "source": []
  },
  {
   "cell_type": "code",
   "execution_count": 28,
   "metadata": {},
   "outputs": [],
   "source": [
    "y = np.array(df_train['final_status'])\n",
    "y = y.reshape(-1,1)"
   ]
  },
  {
   "cell_type": "code",
   "execution_count": 29,
   "metadata": {},
   "outputs": [],
   "source": [
    "X = df_train.iloc[:, df_train.columns != 'final_status']"
   ]
  },
  {
   "cell_type": "code",
   "execution_count": null,
   "metadata": {},
   "outputs": [],
   "source": []
  },
  {
   "cell_type": "markdown",
   "metadata": {},
   "source": [
    "##### PCA on train dataset"
   ]
  },
  {
   "cell_type": "code",
   "execution_count": 30,
   "metadata": {},
   "outputs": [],
   "source": [
    "scaler = StandardScaler()"
   ]
  },
  {
   "cell_type": "code",
   "execution_count": 31,
   "metadata": {},
   "outputs": [],
   "source": [
    "df = scaler.fit_transform(X)"
   ]
  },
  {
   "cell_type": "code",
   "execution_count": 32,
   "metadata": {},
   "outputs": [],
   "source": [
    "X_new = pd.DataFrame(df)"
   ]
  },
  {
   "cell_type": "code",
   "execution_count": 33,
   "metadata": {},
   "outputs": [
    {
     "data": {
      "text/html": [
       "<div>\n",
       "<style scoped>\n",
       "    .dataframe tbody tr th:only-of-type {\n",
       "        vertical-align: middle;\n",
       "    }\n",
       "\n",
       "    .dataframe tbody tr th {\n",
       "        vertical-align: top;\n",
       "    }\n",
       "\n",
       "    .dataframe thead th {\n",
       "        text-align: right;\n",
       "    }\n",
       "</style>\n",
       "<table border=\"1\" class=\"dataframe\">\n",
       "  <thead>\n",
       "    <tr style=\"text-align: right;\">\n",
       "      <th></th>\n",
       "      <th>0</th>\n",
       "      <th>1</th>\n",
       "      <th>2</th>\n",
       "      <th>3</th>\n",
       "      <th>4</th>\n",
       "      <th>5</th>\n",
       "      <th>6</th>\n",
       "      <th>7</th>\n",
       "    </tr>\n",
       "  </thead>\n",
       "  <tbody>\n",
       "    <tr>\n",
       "      <th>0</th>\n",
       "      <td>-0.916635</td>\n",
       "      <td>-0.037768</td>\n",
       "      <td>-0.054737</td>\n",
       "      <td>-1.728041</td>\n",
       "      <td>-1.741136</td>\n",
       "      <td>-1.732228</td>\n",
       "      <td>-1.732466</td>\n",
       "      <td>-0.102416</td>\n",
       "    </tr>\n",
       "    <tr>\n",
       "      <th>1</th>\n",
       "      <td>-0.875596</td>\n",
       "      <td>-0.037479</td>\n",
       "      <td>-0.054737</td>\n",
       "      <td>-1.728007</td>\n",
       "      <td>-1.741034</td>\n",
       "      <td>-1.732132</td>\n",
       "      <td>-1.732369</td>\n",
       "      <td>-0.103266</td>\n",
       "    </tr>\n",
       "    <tr>\n",
       "      <th>2</th>\n",
       "      <td>-0.222784</td>\n",
       "      <td>-0.037757</td>\n",
       "      <td>-0.054737</td>\n",
       "      <td>-1.727972</td>\n",
       "      <td>-1.741000</td>\n",
       "      <td>-1.731491</td>\n",
       "      <td>-1.731824</td>\n",
       "      <td>-0.104965</td>\n",
       "    </tr>\n",
       "    <tr>\n",
       "      <th>3</th>\n",
       "      <td>1.020979</td>\n",
       "      <td>-0.037274</td>\n",
       "      <td>-0.054737</td>\n",
       "      <td>-1.727938</td>\n",
       "      <td>-1.740966</td>\n",
       "      <td>-1.732100</td>\n",
       "      <td>-1.732401</td>\n",
       "      <td>-0.089669</td>\n",
       "    </tr>\n",
       "    <tr>\n",
       "      <th>4</th>\n",
       "      <td>-0.082655</td>\n",
       "      <td>-0.035730</td>\n",
       "      <td>-0.054737</td>\n",
       "      <td>-1.727904</td>\n",
       "      <td>-1.740933</td>\n",
       "      <td>-1.731939</td>\n",
       "      <td>-1.732241</td>\n",
       "      <td>-0.104115</td>\n",
       "    </tr>\n",
       "    <tr>\n",
       "      <th>5</th>\n",
       "      <td>-1.576785</td>\n",
       "      <td>-0.037068</td>\n",
       "      <td>-0.054737</td>\n",
       "      <td>-1.727870</td>\n",
       "      <td>-1.740899</td>\n",
       "      <td>-1.731971</td>\n",
       "      <td>-1.732145</td>\n",
       "      <td>-0.093068</td>\n",
       "    </tr>\n",
       "    <tr>\n",
       "      <th>6</th>\n",
       "      <td>-0.884951</td>\n",
       "      <td>-0.037531</td>\n",
       "      <td>-0.054737</td>\n",
       "      <td>-1.727835</td>\n",
       "      <td>-1.740865</td>\n",
       "      <td>-1.731651</td>\n",
       "      <td>-1.731985</td>\n",
       "      <td>-0.103266</td>\n",
       "    </tr>\n",
       "    <tr>\n",
       "      <th>7</th>\n",
       "      <td>-0.035497</td>\n",
       "      <td>-0.036759</td>\n",
       "      <td>-0.054737</td>\n",
       "      <td>-1.727801</td>\n",
       "      <td>-1.740831</td>\n",
       "      <td>-1.731779</td>\n",
       "      <td>-1.732113</td>\n",
       "      <td>-0.077771</td>\n",
       "    </tr>\n",
       "    <tr>\n",
       "      <th>8</th>\n",
       "      <td>1.217268</td>\n",
       "      <td>-0.032644</td>\n",
       "      <td>-0.054737</td>\n",
       "      <td>-1.727767</td>\n",
       "      <td>-1.740797</td>\n",
       "      <td>-1.731811</td>\n",
       "      <td>-1.732081</td>\n",
       "      <td>-0.067574</td>\n",
       "    </tr>\n",
       "    <tr>\n",
       "      <th>9</th>\n",
       "      <td>1.538244</td>\n",
       "      <td>-0.034187</td>\n",
       "      <td>-0.054737</td>\n",
       "      <td>-1.727732</td>\n",
       "      <td>-1.740763</td>\n",
       "      <td>-1.731427</td>\n",
       "      <td>-1.731760</td>\n",
       "      <td>-0.089669</td>\n",
       "    </tr>\n",
       "  </tbody>\n",
       "</table>\n",
       "</div>"
      ],
      "text/plain": [
       "          0         1         2         3         4         5         6  \\\n",
       "0 -0.916635 -0.037768 -0.054737 -1.728041 -1.741136 -1.732228 -1.732466   \n",
       "1 -0.875596 -0.037479 -0.054737 -1.728007 -1.741034 -1.732132 -1.732369   \n",
       "2 -0.222784 -0.037757 -0.054737 -1.727972 -1.741000 -1.731491 -1.731824   \n",
       "3  1.020979 -0.037274 -0.054737 -1.727938 -1.740966 -1.732100 -1.732401   \n",
       "4 -0.082655 -0.035730 -0.054737 -1.727904 -1.740933 -1.731939 -1.732241   \n",
       "5 -1.576785 -0.037068 -0.054737 -1.727870 -1.740899 -1.731971 -1.732145   \n",
       "6 -0.884951 -0.037531 -0.054737 -1.727835 -1.740865 -1.731651 -1.731985   \n",
       "7 -0.035497 -0.036759 -0.054737 -1.727801 -1.740831 -1.731779 -1.732113   \n",
       "8  1.217268 -0.032644 -0.054737 -1.727767 -1.740797 -1.731811 -1.732081   \n",
       "9  1.538244 -0.034187 -0.054737 -1.727732 -1.740763 -1.731427 -1.731760   \n",
       "\n",
       "          7  \n",
       "0 -0.102416  \n",
       "1 -0.103266  \n",
       "2 -0.104965  \n",
       "3 -0.089669  \n",
       "4 -0.104115  \n",
       "5 -0.093068  \n",
       "6 -0.103266  \n",
       "7 -0.077771  \n",
       "8 -0.067574  \n",
       "9 -0.089669  "
      ]
     },
     "execution_count": 33,
     "metadata": {},
     "output_type": "execute_result"
    }
   ],
   "source": [
    "X_new.head(10)"
   ]
  },
  {
   "cell_type": "code",
   "execution_count": 34,
   "metadata": {},
   "outputs": [],
   "source": [
    "pca_train = PCA(n_components = 2)"
   ]
  },
  {
   "cell_type": "code",
   "execution_count": 35,
   "metadata": {},
   "outputs": [],
   "source": [
    "principalComponents = pca_train.fit_transform(X_new)"
   ]
  },
  {
   "cell_type": "code",
   "execution_count": 36,
   "metadata": {},
   "outputs": [],
   "source": [
    "principalDf = pd.DataFrame(data = principalComponents, columns = ['PC1', 'PC2'])"
   ]
  },
  {
   "cell_type": "code",
   "execution_count": 37,
   "metadata": {},
   "outputs": [
    {
     "data": {
      "text/html": [
       "<div>\n",
       "<style scoped>\n",
       "    .dataframe tbody tr th:only-of-type {\n",
       "        vertical-align: middle;\n",
       "    }\n",
       "\n",
       "    .dataframe tbody tr th {\n",
       "        vertical-align: top;\n",
       "    }\n",
       "\n",
       "    .dataframe thead th {\n",
       "        text-align: right;\n",
       "    }\n",
       "</style>\n",
       "<table border=\"1\" class=\"dataframe\">\n",
       "  <thead>\n",
       "    <tr style=\"text-align: right;\">\n",
       "      <th></th>\n",
       "      <th>PC1</th>\n",
       "      <th>PC2</th>\n",
       "    </tr>\n",
       "  </thead>\n",
       "  <tbody>\n",
       "    <tr>\n",
       "      <th>0</th>\n",
       "      <td>-3.467008</td>\n",
       "      <td>-0.261833</td>\n",
       "    </tr>\n",
       "    <tr>\n",
       "      <th>1</th>\n",
       "      <td>-3.466818</td>\n",
       "      <td>-0.254264</td>\n",
       "    </tr>\n",
       "    <tr>\n",
       "      <th>2</th>\n",
       "      <td>-3.465864</td>\n",
       "      <td>-0.128827</td>\n",
       "    </tr>\n",
       "    <tr>\n",
       "      <th>3</th>\n",
       "      <td>-3.465810</td>\n",
       "      <td>0.123666</td>\n",
       "    </tr>\n",
       "    <tr>\n",
       "      <th>4</th>\n",
       "      <td>-3.466127</td>\n",
       "      <td>-0.099709</td>\n",
       "    </tr>\n",
       "    <tr>\n",
       "      <th>5</th>\n",
       "      <td>-3.466855</td>\n",
       "      <td>-0.383124</td>\n",
       "    </tr>\n",
       "    <tr>\n",
       "      <th>6</th>\n",
       "      <td>-3.466222</td>\n",
       "      <td>-0.256115</td>\n",
       "    </tr>\n",
       "    <tr>\n",
       "      <th>7</th>\n",
       "      <td>-3.465916</td>\n",
       "      <td>-0.072957</td>\n",
       "    </tr>\n",
       "    <tr>\n",
       "      <th>8</th>\n",
       "      <td>-3.465203</td>\n",
       "      <td>0.180096</td>\n",
       "    </tr>\n",
       "    <tr>\n",
       "      <th>9</th>\n",
       "      <td>-3.464642</td>\n",
       "      <td>0.226130</td>\n",
       "    </tr>\n",
       "  </tbody>\n",
       "</table>\n",
       "</div>"
      ],
      "text/plain": [
       "        PC1       PC2\n",
       "0 -3.467008 -0.261833\n",
       "1 -3.466818 -0.254264\n",
       "2 -3.465864 -0.128827\n",
       "3 -3.465810  0.123666\n",
       "4 -3.466127 -0.099709\n",
       "5 -3.466855 -0.383124\n",
       "6 -3.466222 -0.256115\n",
       "7 -3.465916 -0.072957\n",
       "8 -3.465203  0.180096\n",
       "9 -3.464642  0.226130"
      ]
     },
     "execution_count": 37,
     "metadata": {},
     "output_type": "execute_result"
    }
   ],
   "source": [
    "principalDf.head(10)"
   ]
  },
  {
   "cell_type": "code",
   "execution_count": 38,
   "metadata": {},
   "outputs": [],
   "source": [
    "finalDf = pd.concat([principalDf, df_train[['final_status']]], axis = 1)"
   ]
  },
  {
   "cell_type": "code",
   "execution_count": 39,
   "metadata": {},
   "outputs": [
    {
     "data": {
      "text/html": [
       "<div>\n",
       "<style scoped>\n",
       "    .dataframe tbody tr th:only-of-type {\n",
       "        vertical-align: middle;\n",
       "    }\n",
       "\n",
       "    .dataframe tbody tr th {\n",
       "        vertical-align: top;\n",
       "    }\n",
       "\n",
       "    .dataframe thead th {\n",
       "        text-align: right;\n",
       "    }\n",
       "</style>\n",
       "<table border=\"1\" class=\"dataframe\">\n",
       "  <thead>\n",
       "    <tr style=\"text-align: right;\">\n",
       "      <th></th>\n",
       "      <th>PC1</th>\n",
       "      <th>PC2</th>\n",
       "      <th>final_status</th>\n",
       "    </tr>\n",
       "  </thead>\n",
       "  <tbody>\n",
       "    <tr>\n",
       "      <th>0</th>\n",
       "      <td>-3.467008</td>\n",
       "      <td>-0.261833</td>\n",
       "      <td>1</td>\n",
       "    </tr>\n",
       "    <tr>\n",
       "      <th>1</th>\n",
       "      <td>-3.466818</td>\n",
       "      <td>-0.254264</td>\n",
       "      <td>0</td>\n",
       "    </tr>\n",
       "    <tr>\n",
       "      <th>2</th>\n",
       "      <td>-3.465864</td>\n",
       "      <td>-0.128827</td>\n",
       "      <td>0</td>\n",
       "    </tr>\n",
       "    <tr>\n",
       "      <th>3</th>\n",
       "      <td>-3.465810</td>\n",
       "      <td>0.123666</td>\n",
       "      <td>1</td>\n",
       "    </tr>\n",
       "    <tr>\n",
       "      <th>4</th>\n",
       "      <td>-3.466127</td>\n",
       "      <td>-0.099709</td>\n",
       "      <td>0</td>\n",
       "    </tr>\n",
       "  </tbody>\n",
       "</table>\n",
       "</div>"
      ],
      "text/plain": [
       "        PC1       PC2  final_status\n",
       "0 -3.467008 -0.261833             1\n",
       "1 -3.466818 -0.254264             0\n",
       "2 -3.465864 -0.128827             0\n",
       "3 -3.465810  0.123666             1\n",
       "4 -3.466127 -0.099709             0"
      ]
     },
     "execution_count": 39,
     "metadata": {},
     "output_type": "execute_result"
    }
   ],
   "source": [
    "finalDf.head()"
   ]
  },
  {
   "cell_type": "code",
   "execution_count": null,
   "metadata": {},
   "outputs": [],
   "source": []
  },
  {
   "cell_type": "markdown",
   "metadata": {},
   "source": [
    "##### PCA on test dataset"
   ]
  },
  {
   "cell_type": "code",
   "execution_count": 40,
   "metadata": {},
   "outputs": [],
   "source": [
    "df_pca = scaler.fit_transform(df_test)"
   ]
  },
  {
   "cell_type": "code",
   "execution_count": 41,
   "metadata": {},
   "outputs": [],
   "source": [
    "df_test_new = pd.DataFrame(df_pca)"
   ]
  },
  {
   "cell_type": "code",
   "execution_count": 42,
   "metadata": {},
   "outputs": [
    {
     "data": {
      "text/html": [
       "<div>\n",
       "<style scoped>\n",
       "    .dataframe tbody tr th:only-of-type {\n",
       "        vertical-align: middle;\n",
       "    }\n",
       "\n",
       "    .dataframe tbody tr th {\n",
       "        vertical-align: top;\n",
       "    }\n",
       "\n",
       "    .dataframe thead th {\n",
       "        text-align: right;\n",
       "    }\n",
       "</style>\n",
       "<table border=\"1\" class=\"dataframe\">\n",
       "  <thead>\n",
       "    <tr style=\"text-align: right;\">\n",
       "      <th></th>\n",
       "      <th>0</th>\n",
       "      <th>1</th>\n",
       "      <th>2</th>\n",
       "      <th>3</th>\n",
       "      <th>4</th>\n",
       "      <th>5</th>\n",
       "      <th>6</th>\n",
       "    </tr>\n",
       "  </thead>\n",
       "  <tbody>\n",
       "    <tr>\n",
       "      <th>0</th>\n",
       "      <td>1.584759</td>\n",
       "      <td>-0.023473</td>\n",
       "      <td>-0.074039</td>\n",
       "      <td>-0.517123</td>\n",
       "      <td>-0.512180</td>\n",
       "      <td>-0.340840</td>\n",
       "      <td>-0.560031</td>\n",
       "    </tr>\n",
       "    <tr>\n",
       "      <th>1</th>\n",
       "      <td>-0.526124</td>\n",
       "      <td>-0.000268</td>\n",
       "      <td>-0.074039</td>\n",
       "      <td>-0.294058</td>\n",
       "      <td>-0.292013</td>\n",
       "      <td>-0.091607</td>\n",
       "      <td>-0.285882</td>\n",
       "    </tr>\n",
       "    <tr>\n",
       "      <th>2</th>\n",
       "      <td>1.598514</td>\n",
       "      <td>0.011748</td>\n",
       "      <td>-0.074039</td>\n",
       "      <td>-0.374582</td>\n",
       "      <td>-0.374404</td>\n",
       "      <td>-0.177124</td>\n",
       "      <td>-0.378704</td>\n",
       "    </tr>\n",
       "    <tr>\n",
       "      <th>3</th>\n",
       "      <td>-0.961641</td>\n",
       "      <td>0.003875</td>\n",
       "      <td>-0.074039</td>\n",
       "      <td>-0.831329</td>\n",
       "      <td>-0.822747</td>\n",
       "      <td>-0.672858</td>\n",
       "      <td>-0.815004</td>\n",
       "    </tr>\n",
       "    <tr>\n",
       "      <th>4</th>\n",
       "      <td>-0.434589</td>\n",
       "      <td>-0.012699</td>\n",
       "      <td>-0.074039</td>\n",
       "      <td>0.239847</td>\n",
       "      <td>0.238378</td>\n",
       "      <td>0.235168</td>\n",
       "      <td>0.191339</td>\n",
       "    </tr>\n",
       "    <tr>\n",
       "      <th>5</th>\n",
       "      <td>1.723399</td>\n",
       "      <td>-0.020986</td>\n",
       "      <td>-0.074039</td>\n",
       "      <td>0.217454</td>\n",
       "      <td>0.216521</td>\n",
       "      <td>0.393478</td>\n",
       "      <td>0.237887</td>\n",
       "    </tr>\n",
       "    <tr>\n",
       "      <th>6</th>\n",
       "      <td>0.608217</td>\n",
       "      <td>-0.028445</td>\n",
       "      <td>-0.074039</td>\n",
       "      <td>-0.480980</td>\n",
       "      <td>-0.477049</td>\n",
       "      <td>-0.278586</td>\n",
       "      <td>-0.456938</td>\n",
       "    </tr>\n",
       "    <tr>\n",
       "      <th>7</th>\n",
       "      <td>-0.487971</td>\n",
       "      <td>-0.029025</td>\n",
       "      <td>-0.074039</td>\n",
       "      <td>-0.132605</td>\n",
       "      <td>-0.129349</td>\n",
       "      <td>-0.065177</td>\n",
       "      <td>-0.256981</td>\n",
       "    </tr>\n",
       "    <tr>\n",
       "      <th>8</th>\n",
       "      <td>-1.715048</td>\n",
       "      <td>-0.024301</td>\n",
       "      <td>-0.074039</td>\n",
       "      <td>-0.880931</td>\n",
       "      <td>-0.870122</td>\n",
       "      <td>-0.617867</td>\n",
       "      <td>-0.867070</td>\n",
       "    </tr>\n",
       "    <tr>\n",
       "      <th>9</th>\n",
       "      <td>1.330457</td>\n",
       "      <td>-0.022644</td>\n",
       "      <td>-0.074039</td>\n",
       "      <td>-0.892592</td>\n",
       "      <td>-0.881622</td>\n",
       "      <td>-0.810471</td>\n",
       "      <td>-0.910339</td>\n",
       "    </tr>\n",
       "  </tbody>\n",
       "</table>\n",
       "</div>"
      ],
      "text/plain": [
       "          0         1         2         3         4         5         6\n",
       "0  1.584759 -0.023473 -0.074039 -0.517123 -0.512180 -0.340840 -0.560031\n",
       "1 -0.526124 -0.000268 -0.074039 -0.294058 -0.292013 -0.091607 -0.285882\n",
       "2  1.598514  0.011748 -0.074039 -0.374582 -0.374404 -0.177124 -0.378704\n",
       "3 -0.961641  0.003875 -0.074039 -0.831329 -0.822747 -0.672858 -0.815004\n",
       "4 -0.434589 -0.012699 -0.074039  0.239847  0.238378  0.235168  0.191339\n",
       "5  1.723399 -0.020986 -0.074039  0.217454  0.216521  0.393478  0.237887\n",
       "6  0.608217 -0.028445 -0.074039 -0.480980 -0.477049 -0.278586 -0.456938\n",
       "7 -0.487971 -0.029025 -0.074039 -0.132605 -0.129349 -0.065177 -0.256981\n",
       "8 -1.715048 -0.024301 -0.074039 -0.880931 -0.870122 -0.617867 -0.867070\n",
       "9  1.330457 -0.022644 -0.074039 -0.892592 -0.881622 -0.810471 -0.910339"
      ]
     },
     "execution_count": 42,
     "metadata": {},
     "output_type": "execute_result"
    }
   ],
   "source": [
    "df_test_new.head(10)"
   ]
  },
  {
   "cell_type": "code",
   "execution_count": 43,
   "metadata": {},
   "outputs": [],
   "source": [
    "pca_test = PCA(n_components = 2)"
   ]
  },
  {
   "cell_type": "code",
   "execution_count": 44,
   "metadata": {},
   "outputs": [],
   "source": [
    "principalComponents = pca_test.fit_transform(df_test_new)"
   ]
  },
  {
   "cell_type": "code",
   "execution_count": 45,
   "metadata": {},
   "outputs": [],
   "source": [
    "principalDf_test = pd.DataFrame(data = principalComponents, columns = ['PC_test1', 'PC_test2'])"
   ]
  },
  {
   "cell_type": "code",
   "execution_count": 46,
   "metadata": {},
   "outputs": [
    {
     "data": {
      "text/html": [
       "<div>\n",
       "<style scoped>\n",
       "    .dataframe tbody tr th:only-of-type {\n",
       "        vertical-align: middle;\n",
       "    }\n",
       "\n",
       "    .dataframe tbody tr th {\n",
       "        vertical-align: top;\n",
       "    }\n",
       "\n",
       "    .dataframe thead th {\n",
       "        text-align: right;\n",
       "    }\n",
       "</style>\n",
       "<table border=\"1\" class=\"dataframe\">\n",
       "  <thead>\n",
       "    <tr style=\"text-align: right;\">\n",
       "      <th></th>\n",
       "      <th>PC_test1</th>\n",
       "      <th>PC_test2</th>\n",
       "    </tr>\n",
       "  </thead>\n",
       "  <tbody>\n",
       "    <tr>\n",
       "      <th>0</th>\n",
       "      <td>0.969714</td>\n",
       "      <td>0.329170</td>\n",
       "    </tr>\n",
       "    <tr>\n",
       "      <th>1</th>\n",
       "      <td>0.481984</td>\n",
       "      <td>-0.193447</td>\n",
       "    </tr>\n",
       "    <tr>\n",
       "      <th>2</th>\n",
       "      <td>0.657444</td>\n",
       "      <td>0.362969</td>\n",
       "    </tr>\n",
       "    <tr>\n",
       "      <th>3</th>\n",
       "      <td>1.568876</td>\n",
       "      <td>-0.322699</td>\n",
       "    </tr>\n",
       "    <tr>\n",
       "      <th>4</th>\n",
       "      <td>-0.454668</td>\n",
       "      <td>-0.162883</td>\n",
       "    </tr>\n",
       "    <tr>\n",
       "      <th>5</th>\n",
       "      <td>-0.527382</td>\n",
       "      <td>0.393012</td>\n",
       "    </tr>\n",
       "    <tr>\n",
       "      <th>6</th>\n",
       "      <td>0.849256</td>\n",
       "      <td>0.074589</td>\n",
       "    </tr>\n",
       "    <tr>\n",
       "      <th>7</th>\n",
       "      <td>0.290870</td>\n",
       "      <td>-0.200879</td>\n",
       "    </tr>\n",
       "    <tr>\n",
       "      <th>8</th>\n",
       "      <td>1.615827</td>\n",
       "      <td>-0.538251</td>\n",
       "    </tr>\n",
       "    <tr>\n",
       "      <th>9</th>\n",
       "      <td>1.749459</td>\n",
       "      <td>0.249747</td>\n",
       "    </tr>\n",
       "  </tbody>\n",
       "</table>\n",
       "</div>"
      ],
      "text/plain": [
       "   PC_test1  PC_test2\n",
       "0  0.969714  0.329170\n",
       "1  0.481984 -0.193447\n",
       "2  0.657444  0.362969\n",
       "3  1.568876 -0.322699\n",
       "4 -0.454668 -0.162883\n",
       "5 -0.527382  0.393012\n",
       "6  0.849256  0.074589\n",
       "7  0.290870 -0.200879\n",
       "8  1.615827 -0.538251\n",
       "9  1.749459  0.249747"
      ]
     },
     "execution_count": 46,
     "metadata": {},
     "output_type": "execute_result"
    }
   ],
   "source": [
    "principalDf_test.head(10)"
   ]
  },
  {
   "cell_type": "code",
   "execution_count": null,
   "metadata": {},
   "outputs": [],
   "source": []
  },
  {
   "cell_type": "markdown",
   "metadata": {},
   "source": [
    "##### After applying PCA on train dataset, the dataset was divided into X_PCA and y_PCA"
   ]
  },
  {
   "cell_type": "code",
   "execution_count": 47,
   "metadata": {},
   "outputs": [],
   "source": [
    "X_PCA = finalDf.iloc[:, finalDf.columns != 'final_status']"
   ]
  },
  {
   "cell_type": "code",
   "execution_count": 48,
   "metadata": {},
   "outputs": [],
   "source": [
    "y_PCA = np.array(finalDf['final_status'])\n",
    "y_PCA = y_PCA.reshape(-1,1)"
   ]
  },
  {
   "cell_type": "code",
   "execution_count": null,
   "metadata": {},
   "outputs": [],
   "source": []
  },
  {
   "cell_type": "code",
   "execution_count": 53,
   "metadata": {},
   "outputs": [],
   "source": [
    "X_train, X_test, y_train, y_test = train_test_split(X_PCA, y_PCA, test_size = 0.50)"
   ]
  },
  {
   "cell_type": "code",
   "execution_count": 54,
   "metadata": {},
   "outputs": [],
   "source": [
    "scaler = StandardScaler()\n",
    "X_train = scaler.fit_transform(X_train)\n",
    "X_test = scaler.transform(X_test)"
   ]
  },
  {
   "cell_type": "code",
   "execution_count": null,
   "metadata": {},
   "outputs": [],
   "source": []
  },
  {
   "cell_type": "markdown",
   "metadata": {},
   "source": [
    "##### Support Vector Machines"
   ]
  },
  {
   "cell_type": "code",
   "execution_count": 55,
   "metadata": {},
   "outputs": [],
   "source": [
    "svm = SVC()"
   ]
  },
  {
   "cell_type": "code",
   "execution_count": 67,
   "metadata": {},
   "outputs": [
    {
     "data": {
      "text/plain": [
       "SVC(C=1.0, cache_size=200, class_weight=None, coef0=0.0,\n",
       "    decision_function_shape='ovr', degree=3, gamma='auto_deprecated',\n",
       "    kernel='rbf', max_iter=-1, probability=False, random_state=None,\n",
       "    shrinking=True, tol=0.001, verbose=False)"
      ]
     },
     "execution_count": 67,
     "metadata": {},
     "output_type": "execute_result"
    }
   ],
   "source": [
    "svm.fit(X_train, y_train)"
   ]
  },
  {
   "cell_type": "code",
   "execution_count": 68,
   "metadata": {},
   "outputs": [
    {
     "data": {
      "text/plain": [
       "69.46453343198003"
      ]
     },
     "execution_count": 68,
     "metadata": {},
     "output_type": "execute_result"
    }
   ],
   "source": [
    "svm_score = svm.score(X_test, y_test)*100\n",
    "svm_score"
   ]
  },
  {
   "cell_type": "code",
   "execution_count": null,
   "metadata": {},
   "outputs": [],
   "source": []
  },
  {
   "cell_type": "markdown",
   "metadata": {},
   "source": [
    "##### Random Forest Classifier"
   ]
  },
  {
   "cell_type": "code",
   "execution_count": 56,
   "metadata": {},
   "outputs": [],
   "source": [
    "rfc = RandomForestClassifier()"
   ]
  },
  {
   "cell_type": "code",
   "execution_count": 57,
   "metadata": {},
   "outputs": [
    {
     "data": {
      "text/plain": [
       "RandomForestClassifier(bootstrap=True, class_weight=None, criterion='gini',\n",
       "                       max_depth=None, max_features='auto', max_leaf_nodes=None,\n",
       "                       min_impurity_decrease=0.0, min_impurity_split=None,\n",
       "                       min_samples_leaf=1, min_samples_split=2,\n",
       "                       min_weight_fraction_leaf=0.0, n_estimators=10,\n",
       "                       n_jobs=None, oob_score=False, random_state=None,\n",
       "                       verbose=0, warm_start=False)"
      ]
     },
     "execution_count": 57,
     "metadata": {},
     "output_type": "execute_result"
    }
   ],
   "source": [
    "rfc.fit(X_train, y_train)"
   ]
  },
  {
   "cell_type": "code",
   "execution_count": 58,
   "metadata": {},
   "outputs": [
    {
     "data": {
      "text/plain": [
       "65.63580874872838"
      ]
     },
     "execution_count": 58,
     "metadata": {},
     "output_type": "execute_result"
    }
   ],
   "source": [
    "rfc_score = rfc.score(X_test, y_test)*100\n",
    "rfc_score"
   ]
  },
  {
   "cell_type": "code",
   "execution_count": null,
   "metadata": {},
   "outputs": [],
   "source": []
  },
  {
   "cell_type": "markdown",
   "metadata": {},
   "source": [
    "##### Adaboost Classifier"
   ]
  },
  {
   "cell_type": "code",
   "execution_count": 59,
   "metadata": {},
   "outputs": [],
   "source": [
    "ada = AdaBoostClassifier()"
   ]
  },
  {
   "cell_type": "code",
   "execution_count": 60,
   "metadata": {},
   "outputs": [
    {
     "data": {
      "text/plain": [
       "AdaBoostClassifier(algorithm='SAMME.R', base_estimator=None, learning_rate=1.0,\n",
       "                   n_estimators=50, random_state=None)"
      ]
     },
     "execution_count": 60,
     "metadata": {},
     "output_type": "execute_result"
    }
   ],
   "source": [
    "ada.fit(X_train, y_train)"
   ]
  },
  {
   "cell_type": "code",
   "execution_count": 61,
   "metadata": {},
   "outputs": [
    {
     "data": {
      "text/plain": [
       "70.69083510589105"
      ]
     },
     "execution_count": 61,
     "metadata": {},
     "output_type": "execute_result"
    }
   ],
   "source": [
    "ada_score = ada.score(X_test, y_test)*100\n",
    "ada_score"
   ]
  },
  {
   "cell_type": "code",
   "execution_count": null,
   "metadata": {},
   "outputs": [],
   "source": []
  },
  {
   "cell_type": "markdown",
   "metadata": {},
   "source": [
    "##### Naive bayes"
   ]
  },
  {
   "cell_type": "code",
   "execution_count": 62,
   "metadata": {},
   "outputs": [
    {
     "data": {
      "text/plain": [
       "GaussianNB(priors=None, var_smoothing=1e-09)"
      ]
     },
     "execution_count": 62,
     "metadata": {},
     "output_type": "execute_result"
    }
   ],
   "source": [
    "nb = GaussianNB()\n",
    "nb.fit(X_train, y_train)"
   ]
  },
  {
   "cell_type": "code",
   "execution_count": 63,
   "metadata": {},
   "outputs": [
    {
     "data": {
      "text/plain": [
       "68.23638213261815"
      ]
     },
     "execution_count": 63,
     "metadata": {},
     "output_type": "execute_result"
    }
   ],
   "source": [
    "NB_score = nb.score(X_test, y_test)*100\n",
    "NB_score"
   ]
  },
  {
   "cell_type": "code",
   "execution_count": null,
   "metadata": {},
   "outputs": [],
   "source": []
  },
  {
   "cell_type": "markdown",
   "metadata": {},
   "source": [
    "##### Logistic Regression"
   ]
  },
  {
   "cell_type": "code",
   "execution_count": 64,
   "metadata": {},
   "outputs": [],
   "source": [
    "lr = LogisticRegression()"
   ]
  },
  {
   "cell_type": "code",
   "execution_count": 65,
   "metadata": {},
   "outputs": [
    {
     "data": {
      "text/plain": [
       "LogisticRegression(C=1.0, class_weight=None, dual=False, fit_intercept=True,\n",
       "                   intercept_scaling=1, l1_ratio=None, max_iter=100,\n",
       "                   multi_class='warn', n_jobs=None, penalty='l2',\n",
       "                   random_state=None, solver='warn', tol=0.0001, verbose=0,\n",
       "                   warm_start=False)"
      ]
     },
     "execution_count": 65,
     "metadata": {},
     "output_type": "execute_result"
    }
   ],
   "source": [
    "lr.fit(X_train, y_train)"
   ]
  },
  {
   "cell_type": "code",
   "execution_count": 66,
   "metadata": {},
   "outputs": [
    {
     "data": {
      "text/plain": [
       "69.10015721816333"
      ]
     },
     "execution_count": 66,
     "metadata": {},
     "output_type": "execute_result"
    }
   ],
   "source": [
    "LR_score = lr.score(X_test, y_test)*100\n",
    "LR_score"
   ]
  },
  {
   "cell_type": "code",
   "execution_count": null,
   "metadata": {},
   "outputs": [],
   "source": []
  },
  {
   "cell_type": "code",
   "execution_count": 69,
   "metadata": {},
   "outputs": [
    {
     "data": {
      "text/html": [
       "<div>\n",
       "<style scoped>\n",
       "    .dataframe tbody tr th:only-of-type {\n",
       "        vertical-align: middle;\n",
       "    }\n",
       "\n",
       "    .dataframe tbody tr th {\n",
       "        vertical-align: top;\n",
       "    }\n",
       "\n",
       "    .dataframe thead th {\n",
       "        text-align: right;\n",
       "    }\n",
       "</style>\n",
       "<table border=\"1\" class=\"dataframe\">\n",
       "  <thead>\n",
       "    <tr style=\"text-align: right;\">\n",
       "      <th></th>\n",
       "      <th>Model</th>\n",
       "      <th>Score</th>\n",
       "    </tr>\n",
       "  </thead>\n",
       "  <tbody>\n",
       "    <tr>\n",
       "      <th>4</th>\n",
       "      <td>Adaboost Classifier</td>\n",
       "      <td>70.690835</td>\n",
       "    </tr>\n",
       "    <tr>\n",
       "      <th>2</th>\n",
       "      <td>Support Vector Machines</td>\n",
       "      <td>69.464533</td>\n",
       "    </tr>\n",
       "    <tr>\n",
       "      <th>1</th>\n",
       "      <td>Logistic Regression</td>\n",
       "      <td>69.100157</td>\n",
       "    </tr>\n",
       "    <tr>\n",
       "      <th>3</th>\n",
       "      <td>Naive Bayes</td>\n",
       "      <td>68.236382</td>\n",
       "    </tr>\n",
       "    <tr>\n",
       "      <th>0</th>\n",
       "      <td>Random Forest Classifier</td>\n",
       "      <td>65.635809</td>\n",
       "    </tr>\n",
       "  </tbody>\n",
       "</table>\n",
       "</div>"
      ],
      "text/plain": [
       "                      Model      Score\n",
       "4       Adaboost Classifier  70.690835\n",
       "2   Support Vector Machines  69.464533\n",
       "1       Logistic Regression  69.100157\n",
       "3               Naive Bayes  68.236382\n",
       "0  Random Forest Classifier  65.635809"
      ]
     },
     "execution_count": 69,
     "metadata": {},
     "output_type": "execute_result"
    }
   ],
   "source": [
    "models = pd.DataFrame({ \n",
    "    'Model': ['Random Forest Classifier', 'Logistic Regression',\n",
    "             'Support Vector Machines', 'Naive Bayes', 'Adaboost Classifier'],\n",
    "    'Score': [rfc_score, LR_score, svm_score,\n",
    "              NB_score, ada_score]})\n",
    "models.sort_values(by='Score', ascending=False)"
   ]
  },
  {
   "cell_type": "markdown",
   "metadata": {},
   "source": [
    "##### From the above dataframe, Adaboost gives good score"
   ]
  },
  {
   "cell_type": "code",
   "execution_count": null,
   "metadata": {},
   "outputs": [],
   "source": []
  },
  {
   "cell_type": "markdown",
   "metadata": {},
   "source": [
    "##### Prediction on X_test"
   ]
  },
  {
   "cell_type": "code",
   "execution_count": 70,
   "metadata": {},
   "outputs": [],
   "source": [
    "y_pred = ada.predict(X_test)"
   ]
  },
  {
   "cell_type": "code",
   "execution_count": null,
   "metadata": {},
   "outputs": [],
   "source": []
  },
  {
   "cell_type": "markdown",
   "metadata": {},
   "source": [
    "##### Final prediction on principalDf_test using Adaboost classifier"
   ]
  },
  {
   "cell_type": "code",
   "execution_count": 71,
   "metadata": {},
   "outputs": [],
   "source": [
    "principalDf_test['final_status'] = ada.predict(principalDf_test)"
   ]
  },
  {
   "cell_type": "code",
   "execution_count": 72,
   "metadata": {},
   "outputs": [
    {
     "data": {
      "text/plain": [
       "0    1\n",
       "1    0\n",
       "2    1\n",
       "3    0\n",
       "4    0\n",
       "Name: final_status, dtype: int64"
      ]
     },
     "execution_count": 72,
     "metadata": {},
     "output_type": "execute_result"
    }
   ],
   "source": [
    "principalDf_test['final_status'].head()"
   ]
  },
  {
   "cell_type": "code",
   "execution_count": 73,
   "metadata": {},
   "outputs": [
    {
     "data": {
      "text/plain": [
       "array([1, 0], dtype=int64)"
      ]
     },
     "execution_count": 73,
     "metadata": {},
     "output_type": "execute_result"
    }
   ],
   "source": [
    "principalDf_test['final_status'].unique()"
   ]
  },
  {
   "cell_type": "code",
   "execution_count": null,
   "metadata": {},
   "outputs": [],
   "source": []
  },
  {
   "cell_type": "markdown",
   "metadata": {},
   "source": [
    "##### Accuracy score and Classification report"
   ]
  },
  {
   "cell_type": "code",
   "execution_count": 74,
   "metadata": {},
   "outputs": [
    {
     "data": {
      "text/plain": [
       "70.69083510589105"
      ]
     },
     "execution_count": 74,
     "metadata": {},
     "output_type": "execute_result"
    }
   ],
   "source": [
    "Accuracy_score = (metrics.accuracy_score(y_test, y_pred))*100\n",
    "Accuracy_score"
   ]
  },
  {
   "cell_type": "code",
   "execution_count": 75,
   "metadata": {},
   "outputs": [
    {
     "name": "stdout",
     "output_type": "stream",
     "text": [
      "              precision    recall  f1-score   support\n",
      "\n",
      "           0       0.71      0.98      0.82     36846\n",
      "           1       0.72      0.13      0.22     17219\n",
      "\n",
      "    accuracy                           0.71     54065\n",
      "   macro avg       0.72      0.55      0.52     54065\n",
      "weighted avg       0.71      0.71      0.63     54065\n",
      "\n"
     ]
    }
   ],
   "source": [
    "print(metrics.classification_report(y_test, y_pred))"
   ]
  },
  {
   "cell_type": "code",
   "execution_count": null,
   "metadata": {},
   "outputs": [],
   "source": []
  },
  {
   "cell_type": "markdown",
   "metadata": {},
   "source": [
    "##### Final submission"
   ]
  },
  {
   "cell_type": "code",
   "execution_count": 76,
   "metadata": {},
   "outputs": [],
   "source": [
    "final_test_df = pd.concat([df_test, principalDf_test[['final_status']]], axis = 1)"
   ]
  },
  {
   "cell_type": "code",
   "execution_count": 77,
   "metadata": {},
   "outputs": [
    {
     "data": {
      "text/html": [
       "<div>\n",
       "<style scoped>\n",
       "    .dataframe tbody tr th:only-of-type {\n",
       "        vertical-align: middle;\n",
       "    }\n",
       "\n",
       "    .dataframe tbody tr th {\n",
       "        vertical-align: top;\n",
       "    }\n",
       "\n",
       "    .dataframe thead th {\n",
       "        text-align: right;\n",
       "    }\n",
       "</style>\n",
       "<table border=\"1\" class=\"dataframe\">\n",
       "  <thead>\n",
       "    <tr style=\"text-align: right;\">\n",
       "      <th></th>\n",
       "      <th>project_id</th>\n",
       "      <th>goal</th>\n",
       "      <th>disable_communication</th>\n",
       "      <th>deadline</th>\n",
       "      <th>state_changed_at</th>\n",
       "      <th>created_at</th>\n",
       "      <th>launched_at</th>\n",
       "      <th>final_status</th>\n",
       "    </tr>\n",
       "  </thead>\n",
       "  <tbody>\n",
       "    <tr>\n",
       "      <th>0</th>\n",
       "      <td>60766</td>\n",
       "      <td>7000.0</td>\n",
       "      <td>0</td>\n",
       "      <td>20821</td>\n",
       "      <td>20999</td>\n",
       "      <td>25478</td>\n",
       "      <td>21450</td>\n",
       "      <td>1</td>\n",
       "    </tr>\n",
       "    <tr>\n",
       "      <th>1</th>\n",
       "      <td>22093</td>\n",
       "      <td>35000.0</td>\n",
       "      <td>0</td>\n",
       "      <td>24666</td>\n",
       "      <td>24847</td>\n",
       "      <td>30042</td>\n",
       "      <td>26468</td>\n",
       "      <td>0</td>\n",
       "    </tr>\n",
       "    <tr>\n",
       "      <th>2</th>\n",
       "      <td>61018</td>\n",
       "      <td>49500.0</td>\n",
       "      <td>0</td>\n",
       "      <td>23278</td>\n",
       "      <td>23407</td>\n",
       "      <td>28476</td>\n",
       "      <td>24769</td>\n",
       "      <td>1</td>\n",
       "    </tr>\n",
       "    <tr>\n",
       "      <th>3</th>\n",
       "      <td>14114</td>\n",
       "      <td>40000.0</td>\n",
       "      <td>0</td>\n",
       "      <td>15405</td>\n",
       "      <td>15571</td>\n",
       "      <td>19398</td>\n",
       "      <td>16783</td>\n",
       "      <td>0</td>\n",
       "    </tr>\n",
       "    <tr>\n",
       "      <th>4</th>\n",
       "      <td>23770</td>\n",
       "      <td>20000.0</td>\n",
       "      <td>0</td>\n",
       "      <td>33869</td>\n",
       "      <td>34117</td>\n",
       "      <td>36026</td>\n",
       "      <td>35203</td>\n",
       "      <td>0</td>\n",
       "    </tr>\n",
       "    <tr>\n",
       "      <th>5</th>\n",
       "      <td>63306</td>\n",
       "      <td>10000.0</td>\n",
       "      <td>0</td>\n",
       "      <td>33483</td>\n",
       "      <td>33735</td>\n",
       "      <td>38925</td>\n",
       "      <td>36055</td>\n",
       "      <td>1</td>\n",
       "    </tr>\n",
       "    <tr>\n",
       "      <th>6</th>\n",
       "      <td>42875</td>\n",
       "      <td>1000.0</td>\n",
       "      <td>0</td>\n",
       "      <td>21444</td>\n",
       "      <td>21613</td>\n",
       "      <td>26618</td>\n",
       "      <td>23337</td>\n",
       "      <td>0</td>\n",
       "    </tr>\n",
       "    <tr>\n",
       "      <th>7</th>\n",
       "      <td>22792</td>\n",
       "      <td>300.0</td>\n",
       "      <td>0</td>\n",
       "      <td>27449</td>\n",
       "      <td>27690</td>\n",
       "      <td>30526</td>\n",
       "      <td>26997</td>\n",
       "      <td>0</td>\n",
       "    </tr>\n",
       "    <tr>\n",
       "      <th>8</th>\n",
       "      <td>311</td>\n",
       "      <td>6000.0</td>\n",
       "      <td>0</td>\n",
       "      <td>14550</td>\n",
       "      <td>14743</td>\n",
       "      <td>20405</td>\n",
       "      <td>15830</td>\n",
       "      <td>0</td>\n",
       "    </tr>\n",
       "    <tr>\n",
       "      <th>9</th>\n",
       "      <td>56107</td>\n",
       "      <td>8000.0</td>\n",
       "      <td>0</td>\n",
       "      <td>14349</td>\n",
       "      <td>14542</td>\n",
       "      <td>16878</td>\n",
       "      <td>15038</td>\n",
       "      <td>0</td>\n",
       "    </tr>\n",
       "  </tbody>\n",
       "</table>\n",
       "</div>"
      ],
      "text/plain": [
       "   project_id     goal  disable_communication  deadline  state_changed_at  \\\n",
       "0       60766   7000.0                      0     20821             20999   \n",
       "1       22093  35000.0                      0     24666             24847   \n",
       "2       61018  49500.0                      0     23278             23407   \n",
       "3       14114  40000.0                      0     15405             15571   \n",
       "4       23770  20000.0                      0     33869             34117   \n",
       "5       63306  10000.0                      0     33483             33735   \n",
       "6       42875   1000.0                      0     21444             21613   \n",
       "7       22792    300.0                      0     27449             27690   \n",
       "8         311   6000.0                      0     14550             14743   \n",
       "9       56107   8000.0                      0     14349             14542   \n",
       "\n",
       "   created_at  launched_at  final_status  \n",
       "0       25478        21450             1  \n",
       "1       30042        26468             0  \n",
       "2       28476        24769             1  \n",
       "3       19398        16783             0  \n",
       "4       36026        35203             0  \n",
       "5       38925        36055             1  \n",
       "6       26618        23337             0  \n",
       "7       30526        26997             0  \n",
       "8       20405        15830             0  \n",
       "9       16878        15038             0  "
      ]
     },
     "execution_count": 77,
     "metadata": {},
     "output_type": "execute_result"
    }
   ],
   "source": [
    "final_test_df.head(10)"
   ]
  },
  {
   "cell_type": "code",
   "execution_count": 78,
   "metadata": {},
   "outputs": [],
   "source": [
    "final_test_df[['project_id','final_status']].to_csv('Adaboost_submit1.csv', index = False)"
   ]
  },
  {
   "cell_type": "code",
   "execution_count": null,
   "metadata": {},
   "outputs": [],
   "source": []
  }
 ],
 "metadata": {
  "kernelspec": {
   "display_name": "Python 3",
   "language": "python",
   "name": "python3"
  },
  "language_info": {
   "codemirror_mode": {
    "name": "ipython",
    "version": 3
   },
   "file_extension": ".py",
   "mimetype": "text/x-python",
   "name": "python",
   "nbconvert_exporter": "python",
   "pygments_lexer": "ipython3",
   "version": "3.7.3"
  }
 },
 "nbformat": 4,
 "nbformat_minor": 4
}
